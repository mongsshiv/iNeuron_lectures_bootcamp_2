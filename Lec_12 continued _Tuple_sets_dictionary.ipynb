{
 "cells": [
  {
   "cell_type": "code",
   "execution_count": 1,
   "id": "058180e7",
   "metadata": {},
   "outputs": [],
   "source": [
    "# ask the user for N no of times to add item and show total cost. \n",
    "#if item is not present, show it 'out of stock' and do not include its cost in total cost..\n",
    "#amazon_website = [(\"watch\", 5000), (\"bag\", 2000), (\"bottle\", 600), (\"phone\", 45000), (\"laptop\", 80000), (\"shampoo\", 1500)]\n",
    "#total_cost = 0\n",
    "#for i in range(3):\n",
    "    #my_choice = input(\"item to add to the cart\")\n",
    "   # for el in amazon_website:\n",
    "        #if my_choice in amazon_website:\n",
    "          #  print(my_choice)\n",
    "           # total_cost = total_cost + el[1]\n",
    "           # print(total_cost)\n",
    "      #  else:\n",
    "          #  print(\"out of stock\""
   ]
  },
  {
   "cell_type": "code",
   "execution_count": 2,
   "id": "f6351450",
   "metadata": {},
   "outputs": [
    {
     "name": "stdout",
     "output_type": "stream",
     "text": [
      "select item to add to the cart: watch\n",
      " price of item: 5000\n",
      "Out of stock\n",
      "Out of stock\n",
      "Out of stock\n",
      "Out of stock\n",
      "Out of stock\n",
      "select item to add to the cart: bag\n",
      "Out of stock\n",
      " price of item: 2000\n",
      "Out of stock\n",
      "Out of stock\n",
      "Out of stock\n",
      "Out of stock\n",
      "Total payment: 7000\n"
     ]
    }
   ],
   "source": [
    "amazon_website = [(\"watch\", 5000), (\"bag\", 2000), (\"bottle\", 600), (\"phone\", 45000), (\"laptop\", 80000), (\"shampoo\", 1500)]\n",
    "total_cost = 0\n",
    "for i in range(2):\n",
    "    my_choice = input(\"select item to add to the cart: \")\n",
    "    for el in amazon_website:\n",
    "        if my_choice == el[0]:\n",
    "            total_cost = total_cost + el[1]\n",
    "            print(f\" price of item: {el[1]}\")\n",
    "        else:\n",
    "            print(\"Out of stock\")\n",
    "print(f\"Total payment: {total_cost}\")"
   ]
  },
  {
   "cell_type": "code",
   "execution_count": 3,
   "id": "d89e8aed",
   "metadata": {},
   "outputs": [
    {
     "name": "stdout",
     "output_type": "stream",
     "text": [
      "select item to add to the cart: watch\n",
      " price of item: 5000\n",
      "Out of stock\n",
      "Out of stock\n",
      "Out of stock\n",
      "Out of stock\n",
      "Out of stock\n",
      "select item to add to the cart: bag\n",
      "Out of stock\n",
      " price of item: 2000\n",
      "Out of stock\n",
      "Out of stock\n",
      "Out of stock\n",
      "Out of stock\n",
      "Total payment: 7000\n"
     ]
    }
   ],
   "source": [
    "amazon_website = [(\"watch\", 5000), (\"bag\", 2000), (\"bottle\", 600), (\"phone\", 45000), (\"laptop\", 80000), (\"shampoo\", 1500)]\n",
    "total_cost = 0\n",
    "for i in range(2):\n",
    "    my_choice = input(\"select item to add to the cart: \")\n",
    "    for el in amazon_website:\n",
    "        if my_choice == el[0]:\n",
    "            total_cost = total_cost + el[1]\n",
    "            print(f\" price of item: {el[1]}\")\n",
    "        else:\n",
    "            pass\n",
    "            print(\"Out of stock\")\n",
    "print(f\"Total payment: {total_cost}\")"
   ]
  },
  {
   "cell_type": "markdown",
   "id": "09852115",
   "metadata": {},
   "source": [
    "# Sets {}: Unordered collection of uniques elements; sets are mutable"
   ]
  },
  {
   "cell_type": "code",
   "execution_count": 4,
   "id": "8b515049",
   "metadata": {},
   "outputs": [
    {
     "data": {
      "text/plain": [
       "set"
      ]
     },
     "execution_count": 4,
     "metadata": {},
     "output_type": "execute_result"
    }
   ],
   "source": [
    "x = {1,2,3,4,56,67,3,2}\n",
    "type(x)"
   ]
  },
  {
   "cell_type": "code",
   "execution_count": 5,
   "id": "d7a5151c",
   "metadata": {},
   "outputs": [],
   "source": [
    "# initializing set:\n",
    "x = set()"
   ]
  },
  {
   "cell_type": "code",
   "execution_count": 6,
   "id": "9cbd189c",
   "metadata": {},
   "outputs": [
    {
     "data": {
      "text/plain": [
       "set()"
      ]
     },
     "execution_count": 6,
     "metadata": {},
     "output_type": "execute_result"
    }
   ],
   "source": [
    "x"
   ]
  },
  {
   "cell_type": "code",
   "execution_count": 7,
   "id": "c3209e84",
   "metadata": {},
   "outputs": [
    {
     "data": {
      "text/plain": [
       "{1, 2, 3, 4, 56, 67}"
      ]
     },
     "execution_count": 7,
     "metadata": {},
     "output_type": "execute_result"
    }
   ],
   "source": [
    "x = {1,2,3,4,56,67,3,2}\n",
    "x"
   ]
  },
  {
   "cell_type": "code",
   "execution_count": 9,
   "id": "3a1e1d42",
   "metadata": {},
   "outputs": [
    {
     "data": {
      "text/plain": [
       "[1, 2, 3, 4, 5, 6, 7, 8]"
      ]
     },
     "execution_count": 9,
     "metadata": {},
     "output_type": "execute_result"
    }
   ],
   "source": [
    "#return the list with unique elements:\n",
    "a = [1,2,3,2,3,4,5,6,4,3,2,3,4,5,6,7,7,8,8]\n",
    "a = list(set(a))\n",
    "a"
   ]
  },
  {
   "cell_type": "code",
   "execution_count": 10,
   "id": "c12d4b2c",
   "metadata": {},
   "outputs": [
    {
     "data": {
      "text/plain": [
       "{1, 2, 3, 4, 5, 6, 7, 8}"
      ]
     },
     "execution_count": 10,
     "metadata": {},
     "output_type": "execute_result"
    }
   ],
   "source": [
    "a = set(a)\n",
    "a"
   ]
  },
  {
   "cell_type": "code",
   "execution_count": 11,
   "id": "2a370ca7",
   "metadata": {},
   "outputs": [
    {
     "data": {
      "text/plain": [
       "{1, 2, 3, 4, 5, 6, 7, 8, 9}"
      ]
     },
     "execution_count": 11,
     "metadata": {},
     "output_type": "execute_result"
    }
   ],
   "source": [
    "a.add(9)\n",
    "a"
   ]
  },
  {
   "cell_type": "code",
   "execution_count": 12,
   "id": "8d10cf20",
   "metadata": {},
   "outputs": [
    {
     "data": {
      "text/plain": [
       "{1, 2, 3, 4, 5, 6, 7, 8}"
      ]
     },
     "execution_count": 12,
     "metadata": {},
     "output_type": "execute_result"
    }
   ],
   "source": [
    "a.remove(9)\n",
    "a"
   ]
  },
  {
   "cell_type": "code",
   "execution_count": null,
   "id": "0ea2f486",
   "metadata": {},
   "outputs": [],
   "source": []
  }
 ],
 "metadata": {
  "kernelspec": {
   "display_name": "Python 3 (ipykernel)",
   "language": "python",
   "name": "python3"
  },
  "language_info": {
   "codemirror_mode": {
    "name": "ipython",
    "version": 3
   },
   "file_extension": ".py",
   "mimetype": "text/x-python",
   "name": "python",
   "nbconvert_exporter": "python",
   "pygments_lexer": "ipython3",
   "version": "3.9.12"
  }
 },
 "nbformat": 4,
 "nbformat_minor": 5
}
