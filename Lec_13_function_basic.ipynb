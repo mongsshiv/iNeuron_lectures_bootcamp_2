{
 "cells": [
  {
   "cell_type": "markdown",
   "id": "8f640f7e",
   "metadata": {},
   "source": [
    "# function: starts with \"def\""
   ]
  },
  {
   "cell_type": "code",
   "execution_count": 2,
   "id": "da012fa2",
   "metadata": {},
   "outputs": [
    {
     "name": "stdout",
     "output_type": "stream",
     "text": [
      "the above parenthesis is empty and test1 will written whatever is its function. here is to print.\n"
     ]
    }
   ],
   "source": [
    "def test1():\n",
    "    print(\"the above parenthesis is empty and test1 will written whatever is its function. here is to print.\")\n",
    "test1()"
   ]
  },
  {
   "cell_type": "code",
   "execution_count": 3,
   "id": "6f9eeea2",
   "metadata": {},
   "outputs": [
    {
     "data": {
      "text/plain": [
       "1"
      ]
     },
     "execution_count": 3,
     "metadata": {},
     "output_type": "execute_result"
    }
   ],
   "source": [
    "a = 1\n",
    "a"
   ]
  },
  {
   "cell_type": "code",
   "execution_count": 4,
   "id": "4c603fdd",
   "metadata": {},
   "outputs": [
    {
     "name": "stdout",
     "output_type": "stream",
     "text": [
      "the above parenthesis is empty and test1 will written whatever is its function. here is to print.\n"
     ]
    }
   ],
   "source": [
    "b = test1()"
   ]
  },
  {
   "cell_type": "code",
   "execution_count": 5,
   "id": "a0716955",
   "metadata": {},
   "outputs": [
    {
     "data": {
      "text/plain": [
       "NoneType"
      ]
     },
     "execution_count": 5,
     "metadata": {},
     "output_type": "execute_result"
    }
   ],
   "source": [
    "type(b)"
   ]
  },
  {
   "cell_type": "code",
   "execution_count": 9,
   "id": "b52b0538",
   "metadata": {},
   "outputs": [
    {
     "data": {
      "text/plain": [
       "5"
      ]
     },
     "execution_count": 9,
     "metadata": {},
     "output_type": "execute_result"
    }
   ],
   "source": [
    "def test2():\n",
    "    return 5\n",
    "test2()"
   ]
  },
  {
   "cell_type": "code",
   "execution_count": 8,
   "id": "be576703",
   "metadata": {},
   "outputs": [
    {
     "data": {
      "text/plain": [
       "5"
      ]
     },
     "execution_count": 8,
     "metadata": {},
     "output_type": "execute_result"
    }
   ],
   "source": [
    "test2()"
   ]
  },
  {
   "cell_type": "code",
   "execution_count": 10,
   "id": "31776516",
   "metadata": {},
   "outputs": [
    {
     "data": {
      "text/plain": [
       "5"
      ]
     },
     "execution_count": 10,
     "metadata": {},
     "output_type": "execute_result"
    }
   ],
   "source": [
    "d = test2()\n",
    "d"
   ]
  },
  {
   "cell_type": "code",
   "execution_count": 11,
   "id": "76a23126",
   "metadata": {},
   "outputs": [
    {
     "data": {
      "text/plain": [
       "int"
      ]
     },
     "execution_count": 11,
     "metadata": {},
     "output_type": "execute_result"
    }
   ],
   "source": [
    "type(d)"
   ]
  },
  {
   "cell_type": "code",
   "execution_count": 12,
   "id": "faf839ae",
   "metadata": {},
   "outputs": [],
   "source": [
    "# \"print always return None type. that's why b is nonetype and d is an integer.\""
   ]
  },
  {
   "cell_type": "code",
   "execution_count": 13,
   "id": "128bfbcd",
   "metadata": {},
   "outputs": [
    {
     "ename": "TypeError",
     "evalue": "unsupported operand type(s) for +: 'NoneType' and 'str'",
     "output_type": "error",
     "traceback": [
      "\u001b[1;31m---------------------------------------------------------------------------\u001b[0m",
      "\u001b[1;31mTypeError\u001b[0m                                 Traceback (most recent call last)",
      "Input \u001b[1;32mIn [13]\u001b[0m, in \u001b[0;36m<cell line: 1>\u001b[1;34m()\u001b[0m\n\u001b[1;32m----> 1\u001b[0m \u001b[43mb\u001b[49m\u001b[43m \u001b[49m\u001b[38;5;241;43m+\u001b[39;49m\u001b[43m \u001b[49m\u001b[38;5;124;43m\"\u001b[39;49m\u001b[38;5;124;43mpython\u001b[39;49m\u001b[38;5;124;43m\"\u001b[39;49m\n",
      "\u001b[1;31mTypeError\u001b[0m: unsupported operand type(s) for +: 'NoneType' and 'str'"
     ]
    }
   ],
   "source": [
    "b + \"python\""
   ]
  },
  {
   "cell_type": "code",
   "execution_count": 19,
   "id": "093cc4f0",
   "metadata": {},
   "outputs": [],
   "source": [
    "def type3():\n",
    "    return \"learn \""
   ]
  },
  {
   "cell_type": "code",
   "execution_count": 20,
   "id": "05c30b11",
   "metadata": {},
   "outputs": [
    {
     "data": {
      "text/plain": [
       "'learn python'"
      ]
     },
     "execution_count": 20,
     "metadata": {},
     "output_type": "execute_result"
    }
   ],
   "source": [
    "type3() + \"python\""
   ]
  },
  {
   "cell_type": "code",
   "execution_count": 21,
   "id": "9fb36b87",
   "metadata": {},
   "outputs": [],
   "source": [
    "# concatination cannot be done with Nonetype. "
   ]
  },
  {
   "cell_type": "code",
   "execution_count": 23,
   "id": "bba3c255",
   "metadata": {},
   "outputs": [],
   "source": [
    "# multiple type return is possible:\n",
    "def test6():\n",
    "    return 3,1, [3,4,5,\"sudh\"], (3,4,5,6)"
   ]
  },
  {
   "cell_type": "code",
   "execution_count": 24,
   "id": "bc2b120b",
   "metadata": {},
   "outputs": [
    {
     "data": {
      "text/plain": [
       "(3, 1, [3, 4, 5, 'sudh'], (3, 4, 5, 6))"
      ]
     },
     "execution_count": 24,
     "metadata": {},
     "output_type": "execute_result"
    }
   ],
   "source": [
    "test6()"
   ]
  },
  {
   "cell_type": "code",
   "execution_count": 25,
   "id": "8162aefd",
   "metadata": {},
   "outputs": [
    {
     "data": {
      "text/plain": [
       "tuple"
      ]
     },
     "execution_count": 25,
     "metadata": {},
     "output_type": "execute_result"
    }
   ],
   "source": [
    "type(test6())"
   ]
  },
  {
   "cell_type": "code",
   "execution_count": 26,
   "id": "a618a983",
   "metadata": {},
   "outputs": [],
   "source": [
    "a,b,c,d = test6()"
   ]
  },
  {
   "cell_type": "code",
   "execution_count": 27,
   "id": "a505a837",
   "metadata": {},
   "outputs": [
    {
     "data": {
      "text/plain": [
       "3"
      ]
     },
     "execution_count": 27,
     "metadata": {},
     "output_type": "execute_result"
    }
   ],
   "source": [
    "a"
   ]
  },
  {
   "cell_type": "code",
   "execution_count": 28,
   "id": "15c8785f",
   "metadata": {},
   "outputs": [
    {
     "data": {
      "text/plain": [
       "1"
      ]
     },
     "execution_count": 28,
     "metadata": {},
     "output_type": "execute_result"
    }
   ],
   "source": [
    "b"
   ]
  },
  {
   "cell_type": "code",
   "execution_count": 29,
   "id": "6653953e",
   "metadata": {},
   "outputs": [
    {
     "data": {
      "text/plain": [
       "[3, 4, 5, 'sudh']"
      ]
     },
     "execution_count": 29,
     "metadata": {},
     "output_type": "execute_result"
    }
   ],
   "source": [
    "c"
   ]
  },
  {
   "cell_type": "code",
   "execution_count": 30,
   "id": "8d204893",
   "metadata": {},
   "outputs": [
    {
     "data": {
      "text/plain": [
       "(3, 4, 5, 6)"
      ]
     },
     "execution_count": 30,
     "metadata": {},
     "output_type": "execute_result"
    }
   ],
   "source": [
    "d"
   ]
  },
  {
   "cell_type": "code",
   "execution_count": 32,
   "id": "84f4ee4d",
   "metadata": {},
   "outputs": [
    {
     "data": {
      "text/plain": [
       "44"
      ]
     },
     "execution_count": 32,
     "metadata": {},
     "output_type": "execute_result"
    }
   ],
   "source": [
    "def test8():\n",
    "    a = 4 +5*8\n",
    "    return a\n",
    "test8()"
   ]
  },
  {
   "cell_type": "code",
   "execution_count": 50,
   "id": "818a24bc",
   "metadata": {},
   "outputs": [
    {
     "name": "stdout",
     "output_type": "stream",
     "text": [
      "44\n"
     ]
    }
   ],
   "source": [
    "l = [2,3,4,5,6,7,8,9]\n",
    "summ = 0\n",
    "for i in l:\n",
    "    summ = summ + i\n",
    "print(summ)\n",
    "       \n",
    "        "
   ]
  },
  {
   "cell_type": "code",
   "execution_count": 51,
   "id": "854780c8",
   "metadata": {},
   "outputs": [
    {
     "data": {
      "text/plain": [
       "44"
      ]
     },
     "execution_count": 51,
     "metadata": {},
     "output_type": "execute_result"
    }
   ],
   "source": [
    "def test10():\n",
    "    l = [2,3,4,5,6,7,8,9]\n",
    "    summ = 0\n",
    "    for i in l:\n",
    "        if type(i)==int:\n",
    "            summ = summ + i\n",
    "    return summ\n",
    "test10()"
   ]
  },
  {
   "cell_type": "code",
   "execution_count": 57,
   "id": "cd5801b2",
   "metadata": {},
   "outputs": [
    {
     "data": {
      "text/plain": [
       "33.64"
      ]
     },
     "execution_count": 57,
     "metadata": {},
     "output_type": "execute_result"
    }
   ],
   "source": [
    "l2=[2,4,6,7,7.89,6.75]\n",
    "def test11(l2):\n",
    "    summ = 0\n",
    "    for i in l2:\n",
    "        if type(i)==int or float:\n",
    "            summ = summ + i\n",
    "    return summ\n",
    "test11(l2)"
   ]
  },
  {
   "cell_type": "code",
   "execution_count": 58,
   "id": "34c73298",
   "metadata": {},
   "outputs": [
    {
     "data": {
      "text/plain": [
       "34.64"
      ]
     },
     "execution_count": 58,
     "metadata": {},
     "output_type": "execute_result"
    }
   ],
   "source": [
    "l2=[2,4,6,7,7.89,6.75, 1]\n",
    "test11(l2)"
   ]
  },
  {
   "cell_type": "code",
   "execution_count": 59,
   "id": "b3b725ba",
   "metadata": {},
   "outputs": [
    {
     "data": {
      "text/plain": [
       "9"
      ]
     },
     "execution_count": 59,
     "metadata": {},
     "output_type": "execute_result"
    }
   ],
   "source": [
    "l3=[2,3,4]\n",
    "test11(l3)"
   ]
  },
  {
   "cell_type": "code",
   "execution_count": 61,
   "id": "fca0dc17",
   "metadata": {},
   "outputs": [
    {
     "data": {
      "text/plain": [
       "33.64"
      ]
     },
     "execution_count": 61,
     "metadata": {},
     "output_type": "execute_result"
    }
   ],
   "source": [
    "# adding \"Docstring\" or description of the function.\n",
    "l2=[2,4,6,7,7.89,6.75]\n",
    "def test11(l2):\n",
    "    \"\"\"this will add the elements of the list which are integer or float type.\"\"\"\n",
    "    summ = 0\n",
    "    for i in l2:\n",
    "        if type(i)==int or float:\n",
    "            summ = summ + i\n",
    "    return summ\n",
    "test11(l2)"
   ]
  },
  {
   "cell_type": "code",
   "execution_count": 88,
   "id": "9ae3a65d",
   "metadata": {},
   "outputs": [
    {
     "ename": "SyntaxError",
     "evalue": "cannot assign to function call (1095174478.py, line 6)",
     "output_type": "error",
     "traceback": [
      "\u001b[1;36m  Input \u001b[1;32mIn [88]\u001b[1;36m\u001b[0m\n\u001b[1;33m    s.index(i) = s.index(i) + 1\u001b[0m\n\u001b[1;37m    ^\u001b[0m\n\u001b[1;31mSyntaxError\u001b[0m\u001b[1;31m:\u001b[0m cannot assign to function call\n"
     ]
    }
   ],
   "source": [
    "# try to try to find out the lenght of the string wothout using the inbuilt len function.\n",
    "s = \"shivani\"\n",
    "def lengths(s):\n",
    "    n = 0\n",
    "    for i in s:\n",
    "        s.index(i) = s.index(i) + 1\n",
    "        n = n + s.index(i)\n",
    "    return n"
   ]
  },
  {
   "cell_type": "code",
   "execution_count": 89,
   "id": "eac3257a",
   "metadata": {},
   "outputs": [
    {
     "data": {
      "text/plain": [
       "17"
      ]
     },
     "execution_count": 89,
     "metadata": {},
     "output_type": "execute_result"
    }
   ],
   "source": [
    "lengths(s)"
   ]
  },
  {
   "cell_type": "code",
   "execution_count": 93,
   "id": "22ec417d",
   "metadata": {},
   "outputs": [
    {
     "data": {
      "text/plain": [
       "0"
      ]
     },
     "execution_count": 93,
     "metadata": {},
     "output_type": "execute_result"
    }
   ],
   "source": [
    "s = \"shivani\"\n",
    "s.index"
   ]
  },
  {
   "cell_type": "code",
   "execution_count": null,
   "id": "8573dd4d",
   "metadata": {},
   "outputs": [],
   "source": []
  }
 ],
 "metadata": {
  "kernelspec": {
   "display_name": "Python 3 (ipykernel)",
   "language": "python",
   "name": "python3"
  },
  "language_info": {
   "codemirror_mode": {
    "name": "ipython",
    "version": 3
   },
   "file_extension": ".py",
   "mimetype": "text/x-python",
   "name": "python",
   "nbconvert_exporter": "python",
   "pygments_lexer": "ipython3",
   "version": "3.9.12"
  }
 },
 "nbformat": 4,
 "nbformat_minor": 5
}
