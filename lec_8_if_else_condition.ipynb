{
 "cells": [
  {
   "cell_type": "markdown",
   "id": "e5a1261c",
   "metadata": {},
   "source": [
    "# Conditional statements with Logical Operators: not, AND, OR"
   ]
  },
  {
   "cell_type": "code",
   "execution_count": 1,
   "id": "ebf1bbb9",
   "metadata": {},
   "outputs": [
    {
     "name": "stdout",
     "output_type": "stream",
     "text": [
      "True\n"
     ]
    }
   ],
   "source": [
    "start= True\n",
    "print(start)"
   ]
  },
  {
   "cell_type": "code",
   "execution_count": 2,
   "id": "76c33de7",
   "metadata": {},
   "outputs": [
    {
     "name": "stdout",
     "output_type": "stream",
     "text": [
      "False\n"
     ]
    }
   ],
   "source": [
    "start= True\n",
    "print(not start)"
   ]
  },
  {
   "cell_type": "code",
   "execution_count": 3,
   "id": "ef9a6daf",
   "metadata": {},
   "outputs": [
    {
     "name": "stdout",
     "output_type": "stream",
     "text": [
      "let's concentrate\n"
     ]
    }
   ],
   "source": [
    "class_start = True\n",
    "if class_start:\n",
    "    print(\"let's concentrate\")\n",
    "else:\n",
    "    print(\"let's revise\")"
   ]
  },
  {
   "cell_type": "code",
   "execution_count": 4,
   "id": "912eb214",
   "metadata": {},
   "outputs": [
    {
     "name": "stdout",
     "output_type": "stream",
     "text": [
      "let's revise\n"
     ]
    }
   ],
   "source": [
    "class_start = False\n",
    "if class_start:\n",
    "    print(\"let's concentrate\")\n",
    "else:\n",
    "    print(\"let's revise\")"
   ]
  },
  {
   "cell_type": "markdown",
   "id": "4e5559da",
   "metadata": {},
   "source": [
    "# Bug Codes of if-else and bool"
   ]
  },
  {
   "cell_type": "code",
   "execution_count": 10,
   "id": "29fde51f",
   "metadata": {},
   "outputs": [
    {
     "name": "stdout",
     "output_type": "stream",
     "text": [
      "Hey friends!, is class started?: [0-False/1-True]0\n",
      "friend replied: True\n",
      "since class started...\n",
      "let's concentrate\n"
     ]
    }
   ],
   "source": [
    "class_started = bool(input(\"Hey friends!, is class started?: [0-False/1-True]\"))\n",
    "if class_started:\n",
    "    print(f\"friend replied: {class_started}\")\n",
    "    print(\"since class started...\")\n",
    "    print(\"let's concentrate\")\n",
    "else:\n",
    "    print(f\"friend replied: {class_started}\")\n",
    "    print(\"since class not started...\")\n",
    "    print(\"let's revise\")"
   ]
  },
  {
   "cell_type": "code",
   "execution_count": 11,
   "id": "8e4b5d1a",
   "metadata": {},
   "outputs": [
    {
     "name": "stdout",
     "output_type": "stream",
     "text": [
      "Hey friends!, is class started?: [0-False/1-True]1\n",
      "friend replied: True\n",
      "since class started...\n",
      "let's concentrate\n"
     ]
    }
   ],
   "source": [
    "class_started = bool(input(\"Hey friends!, is class started?: [0-False/1-True]\"))\n",
    "if class_started:\n",
    "    print(f\"friend replied: {class_started}\")\n",
    "    print(\"since class started...\")\n",
    "    print(\"let's concentrate\")\n",
    "else:\n",
    "    print(f\"friend replied: {class_started}\")\n",
    "    print(\"since class not started...\")\n",
    "    print(\"let's revise\")"
   ]
  },
  {
   "cell_type": "code",
   "execution_count": 12,
   "id": "a0fc46d5",
   "metadata": {},
   "outputs": [
    {
     "name": "stdout",
     "output_type": "stream",
     "text": [
      "Hey friends!, is class started?: [0-False/1-True]0\n",
      "friend replied: True\n",
      "since class started...\n",
      "let's concentrate\n"
     ]
    }
   ],
   "source": [
    "class_started = bool(input(\"Hey friends!, is class started?: [0-False/1-True]\"))\n",
    "if class_started:\n",
    "    print(f\"friend replied: {class_started}\")\n",
    "    print(\"since class started...\")\n",
    "    print(\"let's concentrate\")\n",
    "else:\n",
    "    print(f\"friend replied: {class_started}\")\n",
    "    print(\"since class not started...\")\n",
    "    print(\"let's revise\")\n",
    "## in all the above cases, whetever the value we are giving input (0/1), it's taking as True"
   ]
  },
  {
   "cell_type": "code",
   "execution_count": 16,
   "id": "3435c2d8",
   "metadata": {},
   "outputs": [
    {
     "name": "stdout",
     "output_type": "stream",
     "text": [
      "Hey friends!, is class started?: [0-False/1-True]yes\n",
      "friend replied: True\n",
      "since class started...\n",
      "let's concentrate\n"
     ]
    }
   ],
   "source": [
    "class_started = bool(input(\"Hey friends!, is class started?: [0-False/1-True]\"))\n",
    "if class_started:\n",
    "    print(f\"friend replied: {class_started}\")\n",
    "    print(\"since class started...\")\n",
    "    print(\"let's concentrate\")\n",
    "else:\n",
    "    print(f\"friend replied: {class_started}\")\n",
    "    print(\"since class not started...\")\n",
    "    print(\"let's revise\")"
   ]
  },
  {
   "cell_type": "code",
   "execution_count": 17,
   "id": "0f9a4164",
   "metadata": {},
   "outputs": [
    {
     "name": "stdout",
     "output_type": "stream",
     "text": [
      "Hey friends!, is class started?: [0-False/1-True]no\n",
      "friend replied: True\n",
      "since class started...\n",
      "let's concentrate\n"
     ]
    }
   ],
   "source": [
    "class_started = bool(input(\"Hey friends!, is class started?: [0-False/1-True]\"))\n",
    "if class_started:\n",
    "    print(f\"friend replied: {class_started}\")\n",
    "    print(\"since class started...\")\n",
    "    print(\"let's concentrate\")\n",
    "else:\n",
    "    print(f\"friend replied: {class_started}\")\n",
    "    print(\"since class not started...\")\n",
    "    print(\"let's revise\")"
   ]
  },
  {
   "cell_type": "code",
   "execution_count": 13,
   "id": "753778f1",
   "metadata": {},
   "outputs": [
    {
     "name": "stdout",
     "output_type": "stream",
     "text": [
      "Hey friends!, is class started?: [0-False/1-True]0\n",
      "since class not started...\n",
      "let's revise\n"
     ]
    }
   ],
   "source": [
    "class_started = not bool(input(\"Hey friends!, is class started?: [0-False/1-True]\"))\n",
    "if class_started:\n",
    "    print(\"since class started...\")\n",
    "    print(\"let's concentrate\")\n",
    "else:\n",
    "    print(\"since class not started...\")\n",
    "    print(\"let's revise\")"
   ]
  },
  {
   "cell_type": "code",
   "execution_count": 14,
   "id": "fc3e44db",
   "metadata": {},
   "outputs": [
    {
     "name": "stdout",
     "output_type": "stream",
     "text": [
      "Hey friends!, is class started?: [0-False/1-True]1\n",
      "since class not started...\n",
      "let's revise\n"
     ]
    }
   ],
   "source": [
    "class_started = not bool(input(\"Hey friends!, is class started?: [0-False/1-True]\"))\n",
    "if class_started:\n",
    "    print(\"since class started...\")\n",
    "    print(\"let's concentrate\")\n",
    "else:\n",
    "    print(\"since class not started...\")\n",
    "    print(\"let's revise\")"
   ]
  },
  {
   "cell_type": "code",
   "execution_count": 18,
   "id": "47e9d73d",
   "metadata": {},
   "outputs": [
    {
     "name": "stdout",
     "output_type": "stream",
     "text": [
      "Hey friends!, is class started?: [0-False/1-True]yes\n",
      "friend replied: yes\n",
      "since class not started...\n",
      "let's revise\n"
     ]
    }
   ],
   "source": [
    "class_started = input(\"Hey friends!, is class started?: [0-False/1-True]\")\n",
    "if not bool(class_started):\n",
    "    print(f\"friend replied: {class_started}\")\n",
    "    print(\"since class started...\")\n",
    "    print(\"let's concentrate\")\n",
    "else:\n",
    "    print(f\"friend replied: {class_started}\")\n",
    "    print(\"since class not started...\")\n",
    "    print(\"let's revise\")"
   ]
  },
  {
   "cell_type": "code",
   "execution_count": 19,
   "id": "6f3911a5",
   "metadata": {},
   "outputs": [
    {
     "name": "stdout",
     "output_type": "stream",
     "text": [
      "Hey friends!, is class started?: [0-False/1-True]0\n",
      "friend replied: 0\n",
      "since class started...\n",
      "let's concentrate\n"
     ]
    }
   ],
   "source": [
    "class_started = input(\"Hey friends!, is class started?: [0-False/1-True]\")\n",
    "if bool(class_started):\n",
    "    print(f\"friend replied: {class_started}\")\n",
    "    print(\"since class started...\")\n",
    "    print(\"let's concentrate\")\n",
    "else:\n",
    "    print(f\"friend replied: {class_started}\")\n",
    "    print(\"since class not started...\")\n",
    "    print(\"let's revise\")"
   ]
  },
  {
   "cell_type": "code",
   "execution_count": 20,
   "id": "b2ef5aa4",
   "metadata": {},
   "outputs": [
    {
     "name": "stdout",
     "output_type": "stream",
     "text": [
      "Hey friends!, is class started?: [0-False/1-True]yes\n",
      "friend replied: yes\n",
      "since class started...\n",
      "let's concentrate\n"
     ]
    }
   ],
   "source": [
    "class_started = input(\"Hey friends!, is class started?: [0-False/1-True]\")\n",
    "if bool(class_started):\n",
    "    print(f\"friend replied: {class_started}\")\n",
    "    print(\"since class started...\")\n",
    "    print(\"let's concentrate\")\n",
    "else:\n",
    "    print(f\"friend replied: {class_started}\")\n",
    "    print(\"since class not started...\")\n",
    "    print(\"let's revise\")"
   ]
  },
  {
   "cell_type": "code",
   "execution_count": 7,
   "id": "962fe06d",
   "metadata": {},
   "outputs": [
    {
     "name": "stdout",
     "output_type": "stream",
     "text": [
      "Hey friends!, is class started?: [0-False/1-True]0\n",
      "since class started...\n",
      "let's concentrate\n"
     ]
    }
   ],
   "source": [
    "class_started = bool(input(\"Hey friends!, is class started?: [0-False/1-True]\"))\n",
    "if class_started:\n",
    "    print(\"since class started...\")\n",
    "    print(\"let's concentrate\")\n",
    "else:\n",
    "    print(\"since class not started...\")\n",
    "    print(\"let's revise\")"
   ]
  },
  {
   "cell_type": "code",
   "execution_count": 9,
   "id": "612a1fdf",
   "metadata": {},
   "outputs": [
    {
     "name": "stdout",
     "output_type": "stream",
     "text": [
      "Hey friends!, is class started?: [0-False/1-True]o\n",
      "since class started...\n",
      "let's concentrate\n"
     ]
    }
   ],
   "source": [
    "## there's bug in it\n",
    "class_started = bool(input(\"Hey friends!, is class started?: [0-False/1-True]\"))\n",
    "if not class_started:\n",
    "    print(\"since class not started...\")\n",
    "    print(\"let's revise\")\n",
    "else:\n",
    "    print(\"since class started...\")\n",
    "    print(\"let's concentrate\")"
   ]
  },
  {
   "cell_type": "code",
   "execution_count": 21,
   "id": "a354e4a4",
   "metadata": {},
   "outputs": [
    {
     "name": "stdout",
     "output_type": "stream",
     "text": [
      "Hey friends!, is class started?: [0-False/1-True]False\n",
      "friend replied: True\n",
      "since class started...\n",
      "let's concentrate\n"
     ]
    }
   ],
   "source": [
    "class_started = bool(input(\"Hey friends!, is class started?: [0-False/1-True]\"))\n",
    "if class_started:\n",
    "    print(f\"friend replied: {class_started}\")\n",
    "    print(\"since class started...\")\n",
    "    print(\"let's concentrate\")\n",
    "else:\n",
    "    print(f\"friend replied: {class_started}\")\n",
    "    print(\"since class not started...\")\n",
    "    print(\"let's revise\")"
   ]
  },
  {
   "cell_type": "code",
   "execution_count": 22,
   "id": "989c5c3b",
   "metadata": {},
   "outputs": [
    {
     "name": "stdout",
     "output_type": "stream",
     "text": [
      "not eligible for exams\n"
     ]
    }
   ],
   "source": [
    "assign = 50\n",
    "attendance = 75\n",
    "if assign >=60 and attendance >=75:\n",
    "    print(\"eligible for exams\")\n",
    "else:\n",
    "    print(\"not eligible for exams\")"
   ]
  },
  {
   "cell_type": "code",
   "execution_count": 23,
   "id": "30761cc5",
   "metadata": {},
   "outputs": [
    {
     "name": "stdout",
     "output_type": "stream",
     "text": [
      "eligible for exams\n"
     ]
    }
   ],
   "source": [
    "assign = 65\n",
    "attendance = 75\n",
    "if assign >=60 and attendance >=75:\n",
    "    print(\"eligible for exams\")\n",
    "else:\n",
    "    print(\"not eligible for exams\")"
   ]
  },
  {
   "cell_type": "code",
   "execution_count": 24,
   "id": "40b412fe",
   "metadata": {},
   "outputs": [
    {
     "name": "stdout",
     "output_type": "stream",
     "text": [
      "eligible for exams\n"
     ]
    }
   ],
   "source": [
    "assign = 50\n",
    "attendance = 75\n",
    "if assign >=60 or attendance >=75:\n",
    "    print(\"eligible for exams\")\n",
    "else:\n",
    "    print(\"not eligible for exams\")"
   ]
  },
  {
   "cell_type": "code",
   "execution_count": 25,
   "id": "ee199ac9",
   "metadata": {},
   "outputs": [
    {
     "name": "stdout",
     "output_type": "stream",
     "text": [
      "let's go for long ride\n"
     ]
    }
   ],
   "source": [
    "car= True\n",
    "bike= True\n",
    "if car or bike:\n",
    "    print(\"let's go for long ride\")\n",
    "else:\n",
    "    print(\"stuck at...\")"
   ]
  },
  {
   "cell_type": "code",
   "execution_count": null,
   "id": "90aacd48",
   "metadata": {},
   "outputs": [],
   "source": []
  }
 ],
 "metadata": {
  "kernelspec": {
   "display_name": "Python 3 (ipykernel)",
   "language": "python",
   "name": "python3"
  },
  "language_info": {
   "codemirror_mode": {
    "name": "ipython",
    "version": 3
   },
   "file_extension": ".py",
   "mimetype": "text/x-python",
   "name": "python",
   "nbconvert_exporter": "python",
   "pygments_lexer": "ipython3",
   "version": "3.9.12"
  }
 },
 "nbformat": 4,
 "nbformat_minor": 5
}
