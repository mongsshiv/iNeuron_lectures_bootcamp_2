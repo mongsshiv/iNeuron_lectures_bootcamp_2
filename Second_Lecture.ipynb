{
 "cells": [
  {
   "cell_type": "markdown",
   "id": "d2e82dc5",
   "metadata": {},
   "source": [
    "# Second Lecture"
   ]
  },
  {
   "cell_type": "code",
   "execution_count": 1,
   "id": "e0a5dda8",
   "metadata": {},
   "outputs": [],
   "source": [
    "s = \"sudh\""
   ]
  },
  {
   "cell_type": "code",
   "execution_count": 2,
   "id": "f373850d",
   "metadata": {
    "scrolled": true
   },
   "outputs": [
    {
     "data": {
      "text/plain": [
       "'s'"
      ]
     },
     "execution_count": 2,
     "metadata": {},
     "output_type": "execute_result"
    }
   ],
   "source": [
    "s[0]"
   ]
  },
  {
   "cell_type": "code",
   "execution_count": 3,
   "id": "b5b14ea7",
   "metadata": {},
   "outputs": [
    {
     "data": {
      "text/plain": [
       "'h'"
      ]
     },
     "execution_count": 3,
     "metadata": {},
     "output_type": "execute_result"
    }
   ],
   "source": [
    "s[-1]"
   ]
  },
  {
   "cell_type": "code",
   "execution_count": 4,
   "id": "cc55526d",
   "metadata": {},
   "outputs": [],
   "source": [
    "a= \" access the range of a dataset\""
   ]
  },
  {
   "cell_type": "code",
   "execution_count": 5,
   "id": "fe183de1",
   "metadata": {},
   "outputs": [
    {
     "data": {
      "text/plain": [
       "' access the range of a datase'"
      ]
     },
     "execution_count": 5,
     "metadata": {},
     "output_type": "execute_result"
    }
   ],
   "source": [
    "a[0:-1]"
   ]
  },
  {
   "cell_type": "code",
   "execution_count": 6,
   "id": "48eae7b8",
   "metadata": {},
   "outputs": [
    {
     "data": {
      "text/plain": [
       "30"
      ]
     },
     "execution_count": 6,
     "metadata": {},
     "output_type": "execute_result"
    }
   ],
   "source": [
    "len(a)"
   ]
  },
  {
   "cell_type": "code",
   "execution_count": 7,
   "id": "7c9ccf79",
   "metadata": {},
   "outputs": [
    {
     "data": {
      "text/plain": [
       "'t'"
      ]
     },
     "execution_count": 7,
     "metadata": {},
     "output_type": "execute_result"
    }
   ],
   "source": [
    "a[29]"
   ]
  },
  {
   "cell_type": "code",
   "execution_count": 8,
   "id": "c9f6efbc",
   "metadata": {},
   "outputs": [
    {
     "data": {
      "text/plain": [
       "' access the range of a dataset'"
      ]
     },
     "execution_count": 8,
     "metadata": {},
     "output_type": "execute_result"
    }
   ],
   "source": [
    "a[0:100]"
   ]
  },
  {
   "cell_type": "code",
   "execution_count": 9,
   "id": "e09178bf",
   "metadata": {},
   "outputs": [
    {
     "data": {
      "text/plain": [
       "''"
      ]
     },
     "execution_count": 9,
     "metadata": {},
     "output_type": "execute_result"
    }
   ],
   "source": [
    "a[-1:3]"
   ]
  },
  {
   "cell_type": "code",
   "execution_count": 10,
   "id": "af7bf8cc",
   "metadata": {},
   "outputs": [
    {
     "ename": "IndexError",
     "evalue": "string index out of range",
     "output_type": "error",
     "traceback": [
      "\u001b[1;31m---------------------------------------------------------------------------\u001b[0m",
      "\u001b[1;31mIndexError\u001b[0m                                Traceback (most recent call last)",
      "Input \u001b[1;32mIn [10]\u001b[0m, in \u001b[0;36m<cell line: 1>\u001b[1;34m()\u001b[0m\n\u001b[1;32m----> 1\u001b[0m \u001b[43ma\u001b[49m\u001b[43m[\u001b[49m\u001b[38;5;241;43m-\u001b[39;49m\u001b[38;5;241;43m100\u001b[39;49m\u001b[43m]\u001b[49m\n",
      "\u001b[1;31mIndexError\u001b[0m: string index out of range"
     ]
    }
   ],
   "source": [
    "a[-100]"
   ]
  },
  {
   "cell_type": "code",
   "execution_count": null,
   "id": "4e8610f2",
   "metadata": {},
   "outputs": [],
   "source": [
    "a[-1:-100:-1]"
   ]
  },
  {
   "cell_type": "code",
   "execution_count": 11,
   "id": "4cdbb615",
   "metadata": {},
   "outputs": [
    {
     "data": {
      "text/plain": [
       "' access the range of a dataset'"
      ]
     },
     "execution_count": 11,
     "metadata": {},
     "output_type": "execute_result"
    }
   ],
   "source": [
    "a[::]"
   ]
  },
  {
   "cell_type": "code",
   "execution_count": 12,
   "id": "6d597b9e",
   "metadata": {},
   "outputs": [
    {
     "data": {
      "text/plain": [
       "'tesatad a fo egnar eht ssecca '"
      ]
     },
     "execution_count": 12,
     "metadata": {},
     "output_type": "execute_result"
    }
   ],
   "source": [
    "a[::-1]"
   ]
  },
  {
   "cell_type": "code",
   "execution_count": 13,
   "id": "b8d2058d",
   "metadata": {},
   "outputs": [
    {
     "data": {
      "text/plain": [
       "'tase'"
      ]
     },
     "execution_count": 13,
     "metadata": {},
     "output_type": "execute_result"
    }
   ],
   "source": [
    "a[-5:-1]"
   ]
  },
  {
   "cell_type": "code",
   "execution_count": 14,
   "id": "32d2e87d",
   "metadata": {},
   "outputs": [
    {
     "data": {
      "text/plain": [
       "''"
      ]
     },
     "execution_count": 14,
     "metadata": {},
     "output_type": "execute_result"
    }
   ],
   "source": [
    "a[-5:1]"
   ]
  },
  {
   "cell_type": "code",
   "execution_count": 15,
   "id": "24541806",
   "metadata": {},
   "outputs": [
    {
     "data": {
      "text/plain": [
       "'atad a fo egnar eht ssecca '"
      ]
     },
     "execution_count": 15,
     "metadata": {},
     "output_type": "execute_result"
    }
   ],
   "source": [
    "a[-4::-1]"
   ]
  },
  {
   "cell_type": "code",
   "execution_count": 16,
   "id": "468e7e8e",
   "metadata": {},
   "outputs": [
    {
     "data": {
      "text/plain": [
       "''"
      ]
     },
     "execution_count": 16,
     "metadata": {},
     "output_type": "execute_result"
    }
   ],
   "source": [
    "a[-4:0]"
   ]
  },
  {
   "cell_type": "code",
   "execution_count": 17,
   "id": "b8097a4f",
   "metadata": {},
   "outputs": [
    {
     "data": {
      "text/plain": [
       "'tad a fo egnar eht sse'"
      ]
     },
     "execution_count": 17,
     "metadata": {},
     "output_type": "execute_result"
    }
   ],
   "source": [
    "a[-5:3:-1]"
   ]
  },
  {
   "cell_type": "code",
   "execution_count": 18,
   "id": "5285d1fa",
   "metadata": {},
   "outputs": [
    {
     "data": {
      "text/plain": [
       "'shivshivshiv'"
      ]
     },
     "execution_count": 18,
     "metadata": {},
     "output_type": "execute_result"
    }
   ],
   "source": [
    "\"shiv\"*3"
   ]
  },
  {
   "cell_type": "code",
   "execution_count": 19,
   "id": "f2acab7a",
   "metadata": {},
   "outputs": [
    {
     "data": {
      "text/plain": [
       "'Shiv Mongs'"
      ]
     },
     "execution_count": 19,
     "metadata": {},
     "output_type": "execute_result"
    }
   ],
   "source": [
    "\"Shiv\" + \" Mongs\""
   ]
  },
  {
   "cell_type": "code",
   "execution_count": 20,
   "id": "b0b00fdb",
   "metadata": {},
   "outputs": [
    {
     "data": {
      "text/plain": [
       "30"
      ]
     },
     "execution_count": 20,
     "metadata": {},
     "output_type": "execute_result"
    }
   ],
   "source": [
    "len(a)"
   ]
  },
  {
   "cell_type": "code",
   "execution_count": 21,
   "id": "8e29fc86",
   "metadata": {},
   "outputs": [
    {
     "data": {
      "text/plain": [
       "'e'"
      ]
     },
     "execution_count": 21,
     "metadata": {},
     "output_type": "execute_result"
    }
   ],
   "source": [
    "a[4]"
   ]
  },
  {
   "cell_type": "code",
   "execution_count": 22,
   "id": "7ac49fc0",
   "metadata": {},
   "outputs": [
    {
     "data": {
      "text/plain": [
       "' access the range of a dataset'"
      ]
     },
     "execution_count": 22,
     "metadata": {},
     "output_type": "execute_result"
    }
   ],
   "source": [
    "a"
   ]
  },
  {
   "cell_type": "code",
   "execution_count": 23,
   "id": "d6ea234c",
   "metadata": {},
   "outputs": [
    {
     "data": {
      "text/plain": [
       "5"
      ]
     },
     "execution_count": 23,
     "metadata": {},
     "output_type": "execute_result"
    }
   ],
   "source": [
    "a.count('a')"
   ]
  },
  {
   "cell_type": "code",
   "execution_count": 24,
   "id": "77a6e231",
   "metadata": {},
   "outputs": [
    {
     "data": {
      "text/plain": [
       "1"
      ]
     },
     "execution_count": 24,
     "metadata": {},
     "output_type": "execute_result"
    }
   ],
   "source": [
    "a.find('a')"
   ]
  },
  {
   "cell_type": "code",
   "execution_count": 25,
   "id": "99be8ec7",
   "metadata": {},
   "outputs": [
    {
     "data": {
      "text/plain": [
       "2"
      ]
     },
     "execution_count": 25,
     "metadata": {},
     "output_type": "execute_result"
    }
   ],
   "source": [
    "a.count(\"c\")"
   ]
  },
  {
   "cell_type": "code",
   "execution_count": 31,
   "id": "fd0f87a2",
   "metadata": {},
   "outputs": [
    {
     "data": {
      "text/plain": [
       "2"
      ]
     },
     "execution_count": 31,
     "metadata": {},
     "output_type": "execute_result"
    }
   ],
   "source": [
    "a.find('c')"
   ]
  },
  {
   "cell_type": "code",
   "execution_count": 32,
   "id": "4772c099",
   "metadata": {},
   "outputs": [
    {
     "data": {
      "text/plain": [
       "['access', 'the', 'range', 'of', 'a', 'dataset']"
      ]
     },
     "execution_count": 32,
     "metadata": {},
     "output_type": "execute_result"
    }
   ],
   "source": [
    "a.split()"
   ]
  },
  {
   "cell_type": "code",
   "execution_count": 33,
   "id": "02d4ac8a",
   "metadata": {},
   "outputs": [
    {
     "data": {
      "text/plain": [
       "list"
      ]
     },
     "execution_count": 33,
     "metadata": {},
     "output_type": "execute_result"
    }
   ],
   "source": [
    "type(a.split())"
   ]
  },
  {
   "cell_type": "code",
   "execution_count": 34,
   "id": "c08a0812",
   "metadata": {},
   "outputs": [],
   "source": [
    "l = a.split()"
   ]
  },
  {
   "cell_type": "code",
   "execution_count": 35,
   "id": "39bd23a6",
   "metadata": {},
   "outputs": [
    {
     "data": {
      "text/plain": [
       "['access', 'the', 'range', 'of', 'a', 'dataset']"
      ]
     },
     "execution_count": 35,
     "metadata": {},
     "output_type": "execute_result"
    }
   ],
   "source": [
    "l"
   ]
  },
  {
   "cell_type": "code",
   "execution_count": 36,
   "id": "eb5e9e34",
   "metadata": {},
   "outputs": [
    {
     "data": {
      "text/plain": [
       "'access'"
      ]
     },
     "execution_count": 36,
     "metadata": {},
     "output_type": "execute_result"
    }
   ],
   "source": [
    "l[0]"
   ]
  },
  {
   "cell_type": "code",
   "execution_count": 37,
   "id": "79088097",
   "metadata": {},
   "outputs": [
    {
     "data": {
      "text/plain": [
       "'the'"
      ]
     },
     "execution_count": 37,
     "metadata": {},
     "output_type": "execute_result"
    }
   ],
   "source": [
    "l[1]"
   ]
  },
  {
   "cell_type": "code",
   "execution_count": 38,
   "id": "f0aa874e",
   "metadata": {},
   "outputs": [
    {
     "data": {
      "text/plain": [
       "'of'"
      ]
     },
     "execution_count": 38,
     "metadata": {},
     "output_type": "execute_result"
    }
   ],
   "source": [
    "l[3]"
   ]
  },
  {
   "cell_type": "code",
   "execution_count": 39,
   "id": "a543a098",
   "metadata": {},
   "outputs": [
    {
     "data": {
      "text/plain": [
       "['access', 'the', 'range']"
      ]
     },
     "execution_count": 39,
     "metadata": {},
     "output_type": "execute_result"
    }
   ],
   "source": [
    "l[0:3]"
   ]
  },
  {
   "cell_type": "code",
   "execution_count": 40,
   "id": "eb0f4279",
   "metadata": {},
   "outputs": [
    {
     "data": {
      "text/plain": [
       "' access the range of a dataset'"
      ]
     },
     "execution_count": 40,
     "metadata": {},
     "output_type": "execute_result"
    }
   ],
   "source": [
    "a"
   ]
  },
  {
   "cell_type": "code",
   "execution_count": 41,
   "id": "f87f9f3f",
   "metadata": {},
   "outputs": [
    {
     "data": {
      "text/plain": [
       "[' access the ra', 'ge of a dataset']"
      ]
     },
     "execution_count": 41,
     "metadata": {},
     "output_type": "execute_result"
    }
   ],
   "source": [
    "a.split('n')"
   ]
  },
  {
   "cell_type": "code",
   "execution_count": 42,
   "id": "d0634a48",
   "metadata": {},
   "outputs": [
    {
     "data": {
      "text/plain": [
       "[' access ', ' range of a dataset']"
      ]
     },
     "execution_count": 42,
     "metadata": {},
     "output_type": "execute_result"
    }
   ],
   "source": [
    "a.split('the')"
   ]
  },
  {
   "cell_type": "code",
   "execution_count": 43,
   "id": "5c9f100e",
   "metadata": {},
   "outputs": [],
   "source": [
    "a=\"shiv\"\n",
    "b=\"mongs\""
   ]
  },
  {
   "cell_type": "code",
   "execution_count": 44,
   "id": "2da8947d",
   "metadata": {},
   "outputs": [
    {
     "data": {
      "text/plain": [
       "'mshivoshivnshivgshivs'"
      ]
     },
     "execution_count": 44,
     "metadata": {},
     "output_type": "execute_result"
    }
   ],
   "source": [
    "a.join(b)"
   ]
  },
  {
   "cell_type": "code",
   "execution_count": 45,
   "id": "03cf1382",
   "metadata": {},
   "outputs": [
    {
     "data": {
      "text/plain": [
       "'s h i v'"
      ]
     },
     "execution_count": 45,
     "metadata": {},
     "output_type": "execute_result"
    }
   ],
   "source": [
    "\" \".join(\"shiv\")"
   ]
  },
  {
   "cell_type": "code",
   "execution_count": 46,
   "id": "f395b93d",
   "metadata": {},
   "outputs": [
    {
     "data": {
      "text/plain": [
       "'s_h_i_v'"
      ]
     },
     "execution_count": 46,
     "metadata": {},
     "output_type": "execute_result"
    }
   ],
   "source": [
    "\"_\".join(\"shiv\")"
   ]
  },
  {
   "cell_type": "code",
   "execution_count": 47,
   "id": "527169fe",
   "metadata": {},
   "outputs": [
    {
     "data": {
      "text/plain": [
       "<reversed at 0x1c238c7c7f0>"
      ]
     },
     "execution_count": 47,
     "metadata": {},
     "output_type": "execute_result"
    }
   ],
   "source": [
    "reversed(\"shivani\")\n",
    "#gives hexadecimal no."
   ]
  },
  {
   "cell_type": "code",
   "execution_count": 48,
   "id": "8799ff37",
   "metadata": {},
   "outputs": [
    {
     "name": "stdout",
     "output_type": "stream",
     "text": [
      "i\n",
      "n\n",
      "a\n",
      "v\n",
      "i\n",
      "h\n",
      "s\n"
     ]
    }
   ],
   "source": [
    "for i in reversed(\"shivani\"):\n",
    "    print(i)"
   ]
  },
  {
   "cell_type": "code",
   "execution_count": 49,
   "id": "7650e422",
   "metadata": {},
   "outputs": [
    {
     "data": {
      "text/plain": [
       "'shiv'"
      ]
     },
     "execution_count": 49,
     "metadata": {},
     "output_type": "execute_result"
    }
   ],
   "source": [
    "a.strip()"
   ]
  },
  {
   "cell_type": "code",
   "execution_count": 50,
   "id": "b27d3b1d",
   "metadata": {},
   "outputs": [
    {
     "data": {
      "text/plain": [
       "'shiv    Mongs'"
      ]
     },
     "execution_count": 50,
     "metadata": {},
     "output_type": "execute_result"
    }
   ],
   "source": [
    "\"shiv\\tMongs\".expandtabs()"
   ]
  },
  {
   "cell_type": "code",
   "execution_count": 51,
   "id": "a3cc0336",
   "metadata": {},
   "outputs": [
    {
     "data": {
      "text/plain": [
       "False"
      ]
     },
     "execution_count": 51,
     "metadata": {},
     "output_type": "execute_result"
    }
   ],
   "source": [
    "a.isupper()"
   ]
  },
  {
   "cell_type": "code",
   "execution_count": 52,
   "id": "bceac9b0",
   "metadata": {},
   "outputs": [
    {
     "data": {
      "text/plain": [
       "True"
      ]
     },
     "execution_count": 52,
     "metadata": {},
     "output_type": "execute_result"
    }
   ],
   "source": [
    "a.islower()"
   ]
  },
  {
   "cell_type": "markdown",
   "id": "c7317922",
   "metadata": {},
   "source": [
    "# List"
   ]
  },
  {
   "cell_type": "code",
   "execution_count": 91,
   "id": "af610df0",
   "metadata": {},
   "outputs": [],
   "source": [
    "l = [\"adegrhg\",\"sdfgh\", 546, 34+56j,True, 45.7]"
   ]
  },
  {
   "cell_type": "code",
   "execution_count": 92,
   "id": "2650efc6",
   "metadata": {},
   "outputs": [
    {
     "data": {
      "text/plain": [
       "list"
      ]
     },
     "execution_count": 92,
     "metadata": {},
     "output_type": "execute_result"
    }
   ],
   "source": [
    "type(l)"
   ]
  },
  {
   "cell_type": "code",
   "execution_count": 93,
   "id": "be110040",
   "metadata": {},
   "outputs": [
    {
     "data": {
      "text/plain": [
       "True"
      ]
     },
     "execution_count": 93,
     "metadata": {},
     "output_type": "execute_result"
    }
   ],
   "source": [
    "l[4]"
   ]
  },
  {
   "cell_type": "code",
   "execution_count": 94,
   "id": "d1744dcf",
   "metadata": {},
   "outputs": [
    {
     "data": {
      "text/plain": [
       "45.7"
      ]
     },
     "execution_count": 94,
     "metadata": {},
     "output_type": "execute_result"
    }
   ],
   "source": [
    "l[-1]"
   ]
  },
  {
   "cell_type": "code",
   "execution_count": 95,
   "id": "dddc198a",
   "metadata": {},
   "outputs": [
    {
     "data": {
      "text/plain": [
       "[45.7, True, (34+56j), 546, 'sdfgh']"
      ]
     },
     "execution_count": 95,
     "metadata": {},
     "output_type": "execute_result"
    }
   ],
   "source": [
    "l[-1:-6:-1]"
   ]
  },
  {
   "cell_type": "code",
   "execution_count": 96,
   "id": "4de82e5f",
   "metadata": {},
   "outputs": [
    {
     "data": {
      "text/plain": [
       "[45.7]"
      ]
     },
     "execution_count": 96,
     "metadata": {},
     "output_type": "execute_result"
    }
   ],
   "source": [
    "l[-1:6]"
   ]
  },
  {
   "cell_type": "code",
   "execution_count": 97,
   "id": "72810fde",
   "metadata": {},
   "outputs": [
    {
     "data": {
      "text/plain": [
       "'e'"
      ]
     },
     "execution_count": 97,
     "metadata": {},
     "output_type": "execute_result"
    }
   ],
   "source": [
    "l[0][2]"
   ]
  },
  {
   "cell_type": "code",
   "execution_count": 98,
   "id": "9012974a",
   "metadata": {},
   "outputs": [
    {
     "data": {
      "text/plain": [
       "34.0"
      ]
     },
     "execution_count": 98,
     "metadata": {},
     "output_type": "execute_result"
    }
   ],
   "source": [
    "l[3].real"
   ]
  },
  {
   "cell_type": "code",
   "execution_count": 99,
   "id": "a3050e44",
   "metadata": {},
   "outputs": [
    {
     "data": {
      "text/plain": [
       "['adegrhg',\n",
       " 'sdfgh',\n",
       " 546,\n",
       " (34+56j),\n",
       " True,\n",
       " 45.7,\n",
       " 'adegrhg',\n",
       " 'sdfgh',\n",
       " 546,\n",
       " (34+56j),\n",
       " True,\n",
       " 45.7]"
      ]
     },
     "execution_count": 99,
     "metadata": {},
     "output_type": "execute_result"
    }
   ],
   "source": [
    "l*2"
   ]
  },
  {
   "cell_type": "code",
   "execution_count": 100,
   "id": "1a24f70c",
   "metadata": {},
   "outputs": [
    {
     "data": {
      "text/plain": [
       "'adegrhg'"
      ]
     },
     "execution_count": 100,
     "metadata": {},
     "output_type": "execute_result"
    }
   ],
   "source": [
    "l[0]"
   ]
  },
  {
   "cell_type": "code",
   "execution_count": 101,
   "id": "fe1d4afa",
   "metadata": {},
   "outputs": [],
   "source": [
    "l[0]=\"shivani\""
   ]
  },
  {
   "cell_type": "code",
   "execution_count": 102,
   "id": "5ae8de80",
   "metadata": {},
   "outputs": [
    {
     "data": {
      "text/plain": [
       "['shivani', 'sdfgh', 546, (34+56j), True, 45.7]"
      ]
     },
     "execution_count": 102,
     "metadata": {},
     "output_type": "execute_result"
    }
   ],
   "source": [
    "l"
   ]
  },
  {
   "cell_type": "code",
   "execution_count": 103,
   "id": "d8470520",
   "metadata": {},
   "outputs": [
    {
     "data": {
      "text/plain": [
       "'sdfgh'"
      ]
     },
     "execution_count": 103,
     "metadata": {},
     "output_type": "execute_result"
    }
   ],
   "source": [
    "l[1]"
   ]
  },
  {
   "cell_type": "code",
   "execution_count": 104,
   "id": "ae523cb8",
   "metadata": {},
   "outputs": [],
   "source": [
    "l[1]=\"Mongs\""
   ]
  },
  {
   "cell_type": "code",
   "execution_count": 105,
   "id": "f51e858c",
   "metadata": {},
   "outputs": [
    {
     "data": {
      "text/plain": [
       "['shivani', 'Mongs', 546, (34+56j), True, 45.7]"
      ]
     },
     "execution_count": 105,
     "metadata": {},
     "output_type": "execute_result"
    }
   ],
   "source": [
    "l"
   ]
  },
  {
   "cell_type": "code",
   "execution_count": 106,
   "id": "09d7ade4",
   "metadata": {},
   "outputs": [],
   "source": [
    "l.append(\"mememe\")"
   ]
  },
  {
   "cell_type": "code",
   "execution_count": 107,
   "id": "66f91511",
   "metadata": {},
   "outputs": [
    {
     "data": {
      "text/plain": [
       "['shivani', 'Mongs', 546, (34+56j), True, 45.7, 'mememe']"
      ]
     },
     "execution_count": 107,
     "metadata": {},
     "output_type": "execute_result"
    }
   ],
   "source": [
    "l"
   ]
  },
  {
   "cell_type": "code",
   "execution_count": 108,
   "id": "2952732f",
   "metadata": {},
   "outputs": [
    {
     "data": {
      "text/plain": [
       "'mememe'"
      ]
     },
     "execution_count": 108,
     "metadata": {},
     "output_type": "execute_result"
    }
   ],
   "source": [
    "l.pop()\n",
    "#pop() removes the last element\n",
    "#pop(2) removes the index 2 element"
   ]
  },
  {
   "cell_type": "code",
   "execution_count": 109,
   "id": "97343886",
   "metadata": {},
   "outputs": [
    {
     "data": {
      "text/plain": [
       "['shivani', 'Mongs', 546, (34+56j), True, 45.7]"
      ]
     },
     "execution_count": 109,
     "metadata": {},
     "output_type": "execute_result"
    }
   ],
   "source": [
    "l"
   ]
  },
  {
   "cell_type": "code",
   "execution_count": 110,
   "id": "c422357e",
   "metadata": {},
   "outputs": [
    {
     "data": {
      "text/plain": [
       "546"
      ]
     },
     "execution_count": 110,
     "metadata": {},
     "output_type": "execute_result"
    }
   ],
   "source": [
    "l.pop(2)"
   ]
  },
  {
   "cell_type": "code",
   "execution_count": 111,
   "id": "10d991c0",
   "metadata": {},
   "outputs": [
    {
     "data": {
      "text/plain": [
       "['shivani', 'Mongs', (34+56j), True, 45.7]"
      ]
     },
     "execution_count": 111,
     "metadata": {},
     "output_type": "execute_result"
    }
   ],
   "source": [
    "l"
   ]
  },
  {
   "cell_type": "code",
   "execution_count": 112,
   "id": "24a4a4f1",
   "metadata": {},
   "outputs": [],
   "source": [
    "l.insert(1, \"goras\")"
   ]
  },
  {
   "cell_type": "code",
   "execution_count": 113,
   "id": "2cb82570",
   "metadata": {},
   "outputs": [
    {
     "data": {
      "text/plain": [
       "['shivani', 'goras', 'Mongs', (34+56j), True, 45.7]"
      ]
     },
     "execution_count": 113,
     "metadata": {},
     "output_type": "execute_result"
    }
   ],
   "source": [
    "l"
   ]
  },
  {
   "cell_type": "code",
   "execution_count": 114,
   "id": "dbdaf3b1",
   "metadata": {},
   "outputs": [],
   "source": [
    "# .extend() performs the concatenation operation in a list\n",
    "l.extend([23,\"ert\", 234.56])"
   ]
  },
  {
   "cell_type": "code",
   "execution_count": 115,
   "id": "bb316418",
   "metadata": {},
   "outputs": [
    {
     "data": {
      "text/plain": [
       "['shivani', 'goras', 'Mongs', (34+56j), True, 45.7, 23, 'ert', 234.56]"
      ]
     },
     "execution_count": 115,
     "metadata": {},
     "output_type": "execute_result"
    }
   ],
   "source": [
    "l"
   ]
  },
  {
   "cell_type": "code",
   "execution_count": null,
   "id": "dfe31394",
   "metadata": {},
   "outputs": [],
   "source": []
  }
 ],
 "metadata": {
  "kernelspec": {
   "display_name": "Python 3 (ipykernel)",
   "language": "python",
   "name": "python3"
  },
  "language_info": {
   "codemirror_mode": {
    "name": "ipython",
    "version": 3
   },
   "file_extension": ".py",
   "mimetype": "text/x-python",
   "name": "python",
   "nbconvert_exporter": "python",
   "pygments_lexer": "ipython3",
   "version": "3.9.12"
  }
 },
 "nbformat": 4,
 "nbformat_minor": 5
}
