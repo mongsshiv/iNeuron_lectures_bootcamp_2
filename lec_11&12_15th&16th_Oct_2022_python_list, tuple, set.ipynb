{
 "cells": [
  {
   "cell_type": "markdown",
   "id": "3a30da21",
   "metadata": {},
   "source": [
    "# Python list"
   ]
  },
  {
   "cell_type": "code",
   "execution_count": 1,
   "id": "15f84c9c",
   "metadata": {},
   "outputs": [
    {
     "name": "stdout",
     "output_type": "stream",
     "text": [
      "1\n",
      "2\n",
      "shiv\n",
      "mongs\n",
      "(1+2j)\n"
     ]
    }
   ],
   "source": [
    "l= [1,2, \"shiv\", \"mongs\", 1 + 2j]\n",
    "for i in l:\n",
    "    print(i)"
   ]
  },
  {
   "cell_type": "code",
   "execution_count": 2,
   "id": "adab7cd3",
   "metadata": {},
   "outputs": [
    {
     "name": "stdout",
     "output_type": "stream",
     "text": [
      "-1 (1+2j)\n",
      "-2 mongs\n",
      "-3 shiv\n",
      "-4 2\n",
      "-5 1\n"
     ]
    }
   ],
   "source": [
    "l= [1,2, \"shiv\", \"mongs\", 1 + 2j]\n",
    "for i in range(-1, - len(l)-1 ,-1):\n",
    "    print(i, l[i])"
   ]
  },
  {
   "cell_type": "code",
   "execution_count": 3,
   "id": "dc7b85c2",
   "metadata": {},
   "outputs": [
    {
     "data": {
      "text/plain": [
       "2"
      ]
     },
     "execution_count": 3,
     "metadata": {},
     "output_type": "execute_result"
    }
   ],
   "source": [
    "l[1]"
   ]
  },
  {
   "cell_type": "code",
   "execution_count": 4,
   "id": "ad3f38e3",
   "metadata": {},
   "outputs": [
    {
     "data": {
      "text/plain": [
       "1"
      ]
     },
     "execution_count": 4,
     "metadata": {},
     "output_type": "execute_result"
    }
   ],
   "source": [
    "l[0]"
   ]
  },
  {
   "cell_type": "code",
   "execution_count": 5,
   "id": "e462ca78",
   "metadata": {},
   "outputs": [
    {
     "data": {
      "text/plain": [
       "[2, 'shiv', 'mongs', (1+2j)]"
      ]
     },
     "execution_count": 5,
     "metadata": {},
     "output_type": "execute_result"
    }
   ],
   "source": [
    "l[1::]"
   ]
  },
  {
   "cell_type": "code",
   "execution_count": 6,
   "id": "5bc41258",
   "metadata": {},
   "outputs": [
    {
     "data": {
      "text/plain": [
       "[1, 2, 'shiv', 'mongs', (1+2j), 1, 2, 'shiv', 'mongs', (1+2j)]"
      ]
     },
     "execution_count": 6,
     "metadata": {},
     "output_type": "execute_result"
    }
   ],
   "source": [
    "l * 2"
   ]
  },
  {
   "cell_type": "code",
   "execution_count": 7,
   "id": "43318868",
   "metadata": {},
   "outputs": [
    {
     "data": {
      "text/plain": [
       "[]"
      ]
     },
     "execution_count": 7,
     "metadata": {},
     "output_type": "execute_result"
    }
   ],
   "source": [
    "l*(-1)"
   ]
  },
  {
   "cell_type": "code",
   "execution_count": 8,
   "id": "dcef5a77",
   "metadata": {},
   "outputs": [
    {
     "data": {
      "text/plain": [
       "[]"
      ]
     },
     "execution_count": 8,
     "metadata": {},
     "output_type": "execute_result"
    }
   ],
   "source": [
    "l*(-2)"
   ]
  },
  {
   "cell_type": "code",
   "execution_count": 9,
   "id": "4650765d",
   "metadata": {},
   "outputs": [
    {
     "data": {
      "text/plain": [
       "[1,\n",
       " 2,\n",
       " 'shiv',\n",
       " 'mongs',\n",
       " (1+2j),\n",
       " 1,\n",
       " 2,\n",
       " 'shiv',\n",
       " 'mongs',\n",
       " (1+2j),\n",
       " 1,\n",
       " 2,\n",
       " 'shiv',\n",
       " 'mongs',\n",
       " (1+2j)]"
      ]
     },
     "execution_count": 9,
     "metadata": {},
     "output_type": "execute_result"
    }
   ],
   "source": [
    "l*2+l"
   ]
  },
  {
   "cell_type": "code",
   "execution_count": 10,
   "id": "6a102d34",
   "metadata": {},
   "outputs": [
    {
     "data": {
      "text/plain": [
       "5"
      ]
     },
     "execution_count": 10,
     "metadata": {},
     "output_type": "execute_result"
    }
   ],
   "source": [
    "len(l)"
   ]
  },
  {
   "cell_type": "code",
   "execution_count": 11,
   "id": "ea72b42f",
   "metadata": {},
   "outputs": [
    {
     "data": {
      "text/plain": [
       "9"
      ]
     },
     "execution_count": 11,
     "metadata": {},
     "output_type": "execute_result"
    }
   ],
   "source": [
    "l = [45, 6,7,5,\"inueron\", True, False, 35, 62.56]\n",
    "len(l)"
   ]
  },
  {
   "cell_type": "code",
   "execution_count": 12,
   "id": "9119c7a8",
   "metadata": {
    "scrolled": true
   },
   "outputs": [],
   "source": [
    "# my_list = [] :- NOT RECOMMENDED\n",
    "#my_list = list() # RECOMMENDED\n",
    "#for i in range(5):\n",
    "   # items = input(\"enter the items: \")\n",
    "   # my_list = my_list + [items]\n",
    "#print(my_list)"
   ]
  },
  {
   "cell_type": "code",
   "execution_count": 13,
   "id": "47ce03bc",
   "metadata": {},
   "outputs": [
    {
     "ename": "IndentationError",
     "evalue": "unexpected indent (1427458754.py, line 3)",
     "output_type": "error",
     "traceback": [
      "\u001b[1;36m  Input \u001b[1;32mIn [13]\u001b[1;36m\u001b[0m\n\u001b[1;33m    print(i)\u001b[0m\n\u001b[1;37m    ^\u001b[0m\n\u001b[1;31mIndentationError\u001b[0m\u001b[1;31m:\u001b[0m unexpected indent\n"
     ]
    }
   ],
   "source": [
    "#list_1 = ['pen', 'pencil', 'eraser', 'scale', 'box']\n",
    "#for i in list_1:\n",
    "    print(i)"
   ]
  },
  {
   "cell_type": "code",
   "execution_count": 14,
   "id": "0326b420",
   "metadata": {
    "scrolled": true
   },
   "outputs": [],
   "source": [
    "#for i in range(4):\n",
    "    #new_item = input(\" \")\n",
    "    #if new_item not in list_1:\n",
    "      #  list_1 = list_1 + [new_item]\n",
    "#print(list_1)"
   ]
  },
  {
   "cell_type": "code",
   "execution_count": 15,
   "id": "78aed2a6",
   "metadata": {},
   "outputs": [],
   "source": [
    "# since pencil was already there in the list, so it has been skipped."
   ]
  },
  {
   "cell_type": "code",
   "execution_count": 16,
   "id": "8ed6dce5",
   "metadata": {},
   "outputs": [],
   "source": [
    "#new_item = input(\"anything else to add: \")\n",
    "\n",
    "#if new_item not in list_1: \n",
    "    #print(\"No, add it to the list\")\n",
    "   # list_1 = list_1 + [new_item]\n",
    "#list_1"
   ]
  },
  {
   "cell_type": "markdown",
   "id": "d8c7664f",
   "metadata": {},
   "source": [
    "# Max/Min"
   ]
  },
  {
   "cell_type": "code",
   "execution_count": 17,
   "id": "58fee89e",
   "metadata": {},
   "outputs": [
    {
     "data": {
      "text/plain": [
       "'shivani'"
      ]
     },
     "execution_count": 17,
     "metadata": {},
     "output_type": "execute_result"
    }
   ],
   "source": [
    "names = [\"shivani\", \"babita\", \"sati\", \"savitri\"]\n",
    "max(names)"
   ]
  },
  {
   "cell_type": "code",
   "execution_count": 18,
   "id": "cfc6df88",
   "metadata": {},
   "outputs": [
    {
     "data": {
      "text/plain": [
       "1"
      ]
     },
     "execution_count": 18,
     "metadata": {},
     "output_type": "execute_result"
    }
   ],
   "source": [
    "names = [\"shivani\", \"babita\", \"sati\", \"savitri\"]\n",
    "names.count(names[0])"
   ]
  },
  {
   "cell_type": "code",
   "execution_count": 19,
   "id": "677e7fd9",
   "metadata": {},
   "outputs": [
    {
     "data": {
      "text/plain": [
       "23"
      ]
     },
     "execution_count": 19,
     "metadata": {},
     "output_type": "execute_result"
    }
   ],
   "source": [
    "string1 = \"shivani is my firstname\"\n",
    "\n",
    "len(string1)"
   ]
  },
  {
   "cell_type": "code",
   "execution_count": 20,
   "id": "77cd4ec0",
   "metadata": {},
   "outputs": [
    {
     "data": {
      "text/plain": [
       "['shivani', 'is', 'my', 'firstname']"
      ]
     },
     "execution_count": 20,
     "metadata": {},
     "output_type": "execute_result"
    }
   ],
   "source": [
    "string1.split(\" \")"
   ]
  },
  {
   "cell_type": "code",
   "execution_count": 21,
   "id": "01482a28",
   "metadata": {},
   "outputs": [
    {
     "data": {
      "text/plain": [
       "7"
      ]
     },
     "execution_count": 21,
     "metadata": {},
     "output_type": "execute_result"
    }
   ],
   "source": [
    "names = [\"shivani\", \"babita\", \"sati\", \"savitri\"]\n",
    "len(names[0])"
   ]
  },
  {
   "cell_type": "code",
   "execution_count": 22,
   "id": "3080bfec",
   "metadata": {},
   "outputs": [
    {
     "name": "stdout",
     "output_type": "stream",
     "text": [
      "7 6 4 7\n"
     ]
    }
   ],
   "source": [
    "names = [\"shivani\", \"babita\", \"sati\", \"savitri\"]\n",
    "print(len(names[0]), len(names[1]), len(names[2]), len(names[3]))\n"
   ]
  },
  {
   "cell_type": "code",
   "execution_count": 23,
   "id": "85139277",
   "metadata": {},
   "outputs": [
    {
     "data": {
      "text/plain": [
       "'i'"
      ]
     },
     "execution_count": 23,
     "metadata": {},
     "output_type": "execute_result"
    }
   ],
   "source": [
    "names[0][-1::]"
   ]
  },
  {
   "cell_type": "code",
   "execution_count": 24,
   "id": "310aec5d",
   "metadata": {},
   "outputs": [
    {
     "ename": "SyntaxError",
     "evalue": "invalid syntax (664875159.py, line 1)",
     "output_type": "error",
     "traceback": [
      "\u001b[1;36m  Input \u001b[1;32mIn [24]\u001b[1;36m\u001b[0m\n\u001b[1;33m    print(max(len(names[])))\u001b[0m\n\u001b[1;37m                        ^\u001b[0m\n\u001b[1;31mSyntaxError\u001b[0m\u001b[1;31m:\u001b[0m invalid syntax\n"
     ]
    }
   ],
   "source": [
    "print(max(len(names[])))"
   ]
  },
  {
   "cell_type": "code",
   "execution_count": 25,
   "id": "3bc056d4",
   "metadata": {},
   "outputs": [
    {
     "name": "stdout",
     "output_type": "stream",
     "text": [
      "shivani 7\n",
      "babita 6\n",
      "sati 4\n",
      "savitri 7\n"
     ]
    }
   ],
   "source": [
    "# first step is to print the elements with their length.\n",
    "# second: write max length = 0 for comparison\n",
    "# third: write result as empty string.\n",
    "#forth: make a loop , in which we are calling elements and their length and comparing their lenght with the max_ lenth given.\n",
    "# with each value comparison, replace the max length with the current element length and call for the highest length element.\n",
    "names = [\"shivani\", \"babita\", \"sati\", \"savitri\"]\n",
    "\n",
    "max_len = 0\n",
    "result = \"\"\n",
    "\n",
    "for name in names:\n",
    "    print(name , len(name))"
   ]
  },
  {
   "cell_type": "code",
   "execution_count": 26,
   "id": "5a55a9ff",
   "metadata": {},
   "outputs": [
    {
     "name": "stdout",
     "output_type": "stream",
     "text": [
      "shivani 7\n",
      "babita 6\n",
      "sati 4\n",
      "savitri 7\n",
      "maximum chrctr name: savitri; maximum character: 7\n"
     ]
    }
   ],
   "source": [
    "names = [\"shivani\", \"babita\", \"sati\", \"savitri\"]\n",
    "\n",
    "max_len = 0\n",
    "result = \"\"\n",
    "\n",
    "for name in names:\n",
    "    print(name , len(name))\n",
    "    if len(name) > max_len:\n",
    "        max_len = len(name)\n",
    "result = result + name\n",
    "print(f\"maximum chrctr name: {result}; maximum character: {max_len}\")"
   ]
  },
  {
   "cell_type": "code",
   "execution_count": 27,
   "id": "225a87c1",
   "metadata": {},
   "outputs": [
    {
     "name": "stdout",
     "output_type": "stream",
     "text": [
      "books 5\n",
      "pens 4\n",
      "box 3\n",
      "teadybear 9\n",
      "waterbottle 11\n",
      "max chrct item on table: waterbottle, max chrct is: 11 \n"
     ]
    }
   ],
   "source": [
    "table_items = [\"books\", \"pens\", \"box\", \"teadybear\", \"waterbottle\"]\n",
    "\n",
    "max_len = 0\n",
    "\n",
    "result = \"\"\n",
    "\n",
    "for item in table_items:\n",
    "    print(item, len(item))\n",
    "    if len(item) > max_len:\n",
    "        max_len = len(item)\n",
    "result = result + item\n",
    "print(f\"max chrct item on table: {result}, max chrct is: {max_len} \")"
   ]
  },
  {
   "cell_type": "markdown",
   "id": "5d7920ec",
   "metadata": {},
   "source": [
    "# Append method"
   ]
  },
  {
   "cell_type": "code",
   "execution_count": 28,
   "id": "1b018729",
   "metadata": {},
   "outputs": [
    {
     "data": {
      "text/plain": [
       "[1, 2, 3]"
      ]
     },
     "execution_count": 28,
     "metadata": {},
     "output_type": "execute_result"
    }
   ],
   "source": [
    "a = [1,2,3]\n",
    "a"
   ]
  },
  {
   "cell_type": "code",
   "execution_count": 29,
   "id": "b8521ae4",
   "metadata": {},
   "outputs": [],
   "source": [
    "a.append(\"4\")"
   ]
  },
  {
   "cell_type": "code",
   "execution_count": 30,
   "id": "2c8d0006",
   "metadata": {},
   "outputs": [
    {
     "data": {
      "text/plain": [
       "[1, 2, 3, '4']"
      ]
     },
     "execution_count": 30,
     "metadata": {},
     "output_type": "execute_result"
    }
   ],
   "source": [
    "a"
   ]
  },
  {
   "cell_type": "code",
   "execution_count": 31,
   "id": "bb22a807",
   "metadata": {},
   "outputs": [],
   "source": [
    "a = a+[4,5]"
   ]
  },
  {
   "cell_type": "code",
   "execution_count": 32,
   "id": "2aeb85f9",
   "metadata": {},
   "outputs": [
    {
     "data": {
      "text/plain": [
       "[1, 2, 3, '4', 4, 5]"
      ]
     },
     "execution_count": 32,
     "metadata": {},
     "output_type": "execute_result"
    }
   ],
   "source": [
    "a"
   ]
  },
  {
   "cell_type": "code",
   "execution_count": 33,
   "id": "ecff233e",
   "metadata": {},
   "outputs": [],
   "source": [
    "a = a + [[4,5]]"
   ]
  },
  {
   "cell_type": "code",
   "execution_count": 34,
   "id": "78e9d849",
   "metadata": {},
   "outputs": [
    {
     "data": {
      "text/plain": [
       "[1, 2, 3, '4', 4, 5, [4, 5]]"
      ]
     },
     "execution_count": 34,
     "metadata": {},
     "output_type": "execute_result"
    }
   ],
   "source": [
    "a"
   ]
  },
  {
   "cell_type": "code",
   "execution_count": 35,
   "id": "2c8b416b",
   "metadata": {},
   "outputs": [],
   "source": [
    "a.append(10)"
   ]
  },
  {
   "cell_type": "code",
   "execution_count": 36,
   "id": "08b09854",
   "metadata": {},
   "outputs": [
    {
     "data": {
      "text/plain": [
       "[1, 2, 3, '4', 4, 5, [4, 5], 10]"
      ]
     },
     "execution_count": 36,
     "metadata": {},
     "output_type": "execute_result"
    }
   ],
   "source": [
    "a"
   ]
  },
  {
   "cell_type": "code",
   "execution_count": 37,
   "id": "7ad3a28a",
   "metadata": {},
   "outputs": [
    {
     "data": {
      "text/plain": [
       "[1, 2, 3, '4', 4, 5, [4, 5], 10]"
      ]
     },
     "execution_count": 37,
     "metadata": {},
     "output_type": "execute_result"
    }
   ],
   "source": [
    "a"
   ]
  },
  {
   "cell_type": "code",
   "execution_count": 38,
   "id": "904e083c",
   "metadata": {},
   "outputs": [
    {
     "name": "stdout",
     "output_type": "stream",
     "text": [
      "apple, 5\n",
      "banana, 6\n",
      "cat, 3\n",
      "guava, 5\n",
      "apricot, 7\n",
      "max char item: apricot, max char: 7\n"
     ]
    }
   ],
   "source": [
    "names = [\"apple\", \"banana\", \"cat\", \"guava\", \"apricot\"]\n",
    "max_len = 0\n",
    "result = \"\"\n",
    "\n",
    "for item in names:\n",
    "    print(f\"{item}, {len(item)}\")\n",
    "    if len(item) > max_len:\n",
    "        max_len = len(item)\n",
    "result = result + item\n",
    "print(f\"max char item: {result}, max char: {len(item)}\")"
   ]
  },
  {
   "cell_type": "code",
   "execution_count": 39,
   "id": "5277ae3a",
   "metadata": {},
   "outputs": [
    {
     "name": "stdout",
     "output_type": "stream",
     "text": [
      "[34, 56, 88, 90]\n"
     ]
    }
   ],
   "source": [
    "#remove odd number from list:\n",
    "l = [1,34,56,67,89,88,90]\n",
    "result = list()\n",
    "for num in l:\n",
    "    if num%2==0:\n",
    "        result.append(num)\n",
    "l=result\n",
    "print(f\"{l}\")\n"
   ]
  },
  {
   "cell_type": "code",
   "execution_count": 40,
   "id": "6ad04d3e",
   "metadata": {},
   "outputs": [
    {
     "data": {
      "text/plain": [
       "[34, 56, 88, 90]"
      ]
     },
     "execution_count": 40,
     "metadata": {},
     "output_type": "execute_result"
    }
   ],
   "source": [
    "l"
   ]
  },
  {
   "cell_type": "code",
   "execution_count": 41,
   "id": "bc3c78fe",
   "metadata": {},
   "outputs": [],
   "source": [
    "l = sorted(l)"
   ]
  },
  {
   "cell_type": "code",
   "execution_count": 42,
   "id": "7253c864",
   "metadata": {},
   "outputs": [
    {
     "data": {
      "text/plain": [
       "[34, 56, 88, 90]"
      ]
     },
     "execution_count": 42,
     "metadata": {},
     "output_type": "execute_result"
    }
   ],
   "source": [
    "l"
   ]
  },
  {
   "cell_type": "code",
   "execution_count": 43,
   "id": "87c3eb91",
   "metadata": {},
   "outputs": [],
   "source": [
    "#to reverse the order\n",
    "l = l[::-1]"
   ]
  },
  {
   "cell_type": "code",
   "execution_count": 44,
   "id": "32e8a040",
   "metadata": {},
   "outputs": [
    {
     "data": {
      "text/plain": [
       "[90, 88, 56, 34]"
      ]
     },
     "execution_count": 44,
     "metadata": {},
     "output_type": "execute_result"
    }
   ],
   "source": [
    "l"
   ]
  },
  {
   "cell_type": "code",
   "execution_count": 45,
   "id": "cabb3644",
   "metadata": {},
   "outputs": [
    {
     "data": {
      "text/plain": [
       "1"
      ]
     },
     "execution_count": 45,
     "metadata": {},
     "output_type": "execute_result"
    }
   ],
   "source": [
    "#integer division: a//b\n",
    "5//3"
   ]
  },
  {
   "cell_type": "markdown",
   "id": "e3446c29",
   "metadata": {},
   "source": [
    "# Nesting of the list"
   ]
  },
  {
   "cell_type": "code",
   "execution_count": 46,
   "id": "caed40e4",
   "metadata": {},
   "outputs": [
    {
     "data": {
      "text/plain": [
       "[[1, 2, 3], [4, 5, 6]]"
      ]
     },
     "execution_count": 46,
     "metadata": {},
     "output_type": "execute_result"
    }
   ],
   "source": [
    "A = [[1,2,3], [4,5,6]]\n",
    "A"
   ]
  },
  {
   "cell_type": "code",
   "execution_count": 47,
   "id": "742b1bf7",
   "metadata": {},
   "outputs": [],
   "source": [
    "a = [[1,2,3], [11,22,33,[500,502]], [45, [239,\"Hii\"], 56,77]]"
   ]
  },
  {
   "cell_type": "code",
   "execution_count": 48,
   "id": "fff1c1d5",
   "metadata": {},
   "outputs": [
    {
     "data": {
      "text/plain": [
       "'Hii'"
      ]
     },
     "execution_count": 48,
     "metadata": {},
     "output_type": "execute_result"
    }
   ],
   "source": [
    "# to extract \"hii\"\n",
    "a[2][1][1]"
   ]
  },
  {
   "cell_type": "code",
   "execution_count": 49,
   "id": "d7876a06",
   "metadata": {},
   "outputs": [
    {
     "data": {
      "text/plain": [
       "'Hii'"
      ]
     },
     "execution_count": 49,
     "metadata": {},
     "output_type": "execute_result"
    }
   ],
   "source": [
    "#in reverse order\n",
    "a[-1][-3][1]"
   ]
  },
  {
   "cell_type": "code",
   "execution_count": 50,
   "id": "cad2ae2c",
   "metadata": {},
   "outputs": [
    {
     "data": {
      "text/plain": [
       "'Hii'"
      ]
     },
     "execution_count": 50,
     "metadata": {},
     "output_type": "execute_result"
    }
   ],
   "source": [
    "a[-1][1][-1]"
   ]
  },
  {
   "cell_type": "code",
   "execution_count": 51,
   "id": "74c69a11",
   "metadata": {},
   "outputs": [],
   "source": [
    "amazon_cart = [[\"watch\", 5000], [\"bag\", 2000], [\"bottle\", 600]]"
   ]
  },
  {
   "cell_type": "code",
   "execution_count": 52,
   "id": "0c584ebc",
   "metadata": {},
   "outputs": [
    {
     "data": {
      "text/plain": [
       "5000"
      ]
     },
     "execution_count": 52,
     "metadata": {},
     "output_type": "execute_result"
    }
   ],
   "source": [
    "amazon_cart[0][1]"
   ]
  },
  {
   "cell_type": "code",
   "execution_count": 53,
   "id": "8c4c89c8",
   "metadata": {},
   "outputs": [
    {
     "data": {
      "text/plain": [
       "2000"
      ]
     },
     "execution_count": 53,
     "metadata": {},
     "output_type": "execute_result"
    }
   ],
   "source": [
    "amazon_cart[1][1]"
   ]
  },
  {
   "cell_type": "code",
   "execution_count": 54,
   "id": "dae2cf45",
   "metadata": {},
   "outputs": [
    {
     "data": {
      "text/plain": [
       "600"
      ]
     },
     "execution_count": 54,
     "metadata": {},
     "output_type": "execute_result"
    }
   ],
   "source": [
    "amazon_cart[2][1]"
   ]
  },
  {
   "cell_type": "code",
   "execution_count": 55,
   "id": "3579452e",
   "metadata": {},
   "outputs": [
    {
     "data": {
      "text/plain": [
       "7600"
      ]
     },
     "execution_count": 55,
     "metadata": {},
     "output_type": "execute_result"
    }
   ],
   "source": [
    "amazon_cart[0][1]+ amazon_cart[1][1] + amazon_cart[2][1]"
   ]
  },
  {
   "cell_type": "code",
   "execution_count": 56,
   "id": "9993cac7",
   "metadata": {},
   "outputs": [
    {
     "name": "stdout",
     "output_type": "stream",
     "text": [
      "5000\n",
      "2000\n",
      "600\n"
     ]
    }
   ],
   "source": [
    "for i in range(len(amazon_cart)):\n",
    "    print(amazon_cart[i][1])"
   ]
  },
  {
   "cell_type": "code",
   "execution_count": 57,
   "id": "f022c968",
   "metadata": {},
   "outputs": [
    {
     "name": "stdout",
     "output_type": "stream",
     "text": [
      "5000\n",
      "2000\n",
      "600\n",
      "7600\n"
     ]
    }
   ],
   "source": [
    "total_cost = 0\n",
    "for i in range(len(amazon_cart)):\n",
    "    print(amazon_cart[i][1])\n",
    "    total_cost = total_cost + amazon_cart[i][1]\n",
    "print(total_cost)"
   ]
  },
  {
   "cell_type": "code",
   "execution_count": 58,
   "id": "26ae1e6c",
   "metadata": {},
   "outputs": [
    {
     "name": "stdout",
     "output_type": "stream",
     "text": [
      "7600\n"
     ]
    }
   ],
   "source": [
    "#best way:\n",
    "amazon_cart = [[\"watch\", 5000], [\"bag\", 2000], [\"bottle\", 600]]\n",
    "tot_cost = 0\n",
    "for item in amazon_cart:\n",
    "    tot_cost = tot_cost + item[1]\n",
    "print(tot_cost)"
   ]
  },
  {
   "cell_type": "markdown",
   "id": "c6115c33",
   "metadata": {},
   "source": [
    "# List comprehension"
   ]
  },
  {
   "cell_type": "code",
   "execution_count": 59,
   "id": "3edfd418",
   "metadata": {},
   "outputs": [
    {
     "name": "stdout",
     "output_type": "stream",
     "text": [
      "[1, 4, 9, 16, 25, 36, 49, 64, 81, 100]\n"
     ]
    }
   ],
   "source": [
    "# creating list of squares of nos. 1 to 10:\n",
    "l= list()\n",
    "for i in range(1,11):\n",
    "    i=i**2\n",
    "    l.append(i)\n",
    "print(l)"
   ]
  },
  {
   "cell_type": "code",
   "execution_count": 60,
   "id": "a720bc26",
   "metadata": {},
   "outputs": [
    {
     "name": "stdout",
     "output_type": "stream",
     "text": [
      "[1, 4, 9, 16, 25, 36, 49, 64, 81, 100]\n"
     ]
    }
   ],
   "source": [
    "# creating list of squares of nos. 1 to 10:\n",
    "l= list()\n",
    "for i in range(1,11):\n",
    "    i**2\n",
    "    l.append(i**2)\n",
    "print(l)"
   ]
  },
  {
   "cell_type": "code",
   "execution_count": 61,
   "id": "ced35261",
   "metadata": {},
   "outputs": [
    {
     "name": "stdout",
     "output_type": "stream",
     "text": [
      "[1, 4, 9, 16, 25, 36, 49, 64, 81, 100]\n"
     ]
    }
   ],
   "source": [
    "# List comprehension\n",
    "a = [1,2,3,4,5,6,7,8,9,10]\n",
    "l = [no**2 for no in a]\n",
    "print(l)"
   ]
  },
  {
   "cell_type": "code",
   "execution_count": 62,
   "id": "83a91fad",
   "metadata": {},
   "outputs": [
    {
     "name": "stdout",
     "output_type": "stream",
     "text": [
      "[1, 9, 25, 25, 49, 7921, 529]\n"
     ]
    }
   ],
   "source": [
    "#sqr of only odd no. in a list\n",
    "lo = list()\n",
    "l = [1,2,3,4,5,6,5,7,6,89,26,23,24]\n",
    "for ele in l:\n",
    "    if ele%2!=0:\n",
    "        ele**2\n",
    "        lo.append(ele**2)\n",
    "print(lo)\n",
    "        "
   ]
  },
  {
   "cell_type": "code",
   "execution_count": 63,
   "id": "00824ada",
   "metadata": {},
   "outputs": [
    {
     "name": "stdout",
     "output_type": "stream",
     "text": [
      "[1, 9, 25, 25, 49, 7921, 529]\n"
     ]
    }
   ],
   "source": [
    "# list compreh.\n",
    "l = [1,2,3,4,5,6,5,7,6,89,26,23,24]\n",
    "lo = [ele**2 for ele in l if ele%2!=0]\n",
    "print(lo)"
   ]
  },
  {
   "cell_type": "code",
   "execution_count": 64,
   "id": "a0612a01",
   "metadata": {},
   "outputs": [
    {
     "ename": "TypeError",
     "evalue": "'list' object is not callable",
     "output_type": "error",
     "traceback": [
      "\u001b[1;31m---------------------------------------------------------------------------\u001b[0m",
      "\u001b[1;31mTypeError\u001b[0m                                 Traceback (most recent call last)",
      "Input \u001b[1;32mIn [64]\u001b[0m, in \u001b[0;36m<cell line: 4>\u001b[1;34m()\u001b[0m\n\u001b[0;32m      3\u001b[0m l \u001b[38;5;241m=\u001b[39m [\u001b[38;5;241m1\u001b[39m,\u001b[38;5;241m2\u001b[39m,\u001b[38;5;241m3\u001b[39m,\u001b[38;5;241m5\u001b[39m,\u001b[38;5;241m3\u001b[39m,\u001b[38;5;241m6\u001b[39m,\u001b[38;5;241m8\u001b[39m,\u001b[38;5;241m4\u001b[39m,\u001b[38;5;241m6\u001b[39m,\u001b[38;5;241m7\u001b[39m,\u001b[38;5;241m8\u001b[39m,\u001b[38;5;241m4\u001b[39m,\u001b[38;5;241m2\u001b[39m,\u001b[38;5;241m12\u001b[39m,\u001b[38;5;241m5\u001b[39m,\u001b[38;5;241m89\u001b[39m,\u001b[38;5;241m5\u001b[39m,\u001b[38;5;241m4\u001b[39m,\u001b[38;5;241m3\u001b[39m,\u001b[38;5;241m2\u001b[39m,\u001b[38;5;241m5\u001b[39m,\u001b[38;5;241m6\u001b[39m,\u001b[38;5;241m7\u001b[39m,\u001b[38;5;241m8\u001b[39m,\u001b[38;5;241m9\u001b[39m,\u001b[38;5;241m4\u001b[39m,\u001b[38;5;241m3\u001b[39m,\u001b[38;5;241m2\u001b[39m,\u001b[38;5;241m4\u001b[39m]\n\u001b[0;32m      4\u001b[0m \u001b[38;5;28;01mfor\u001b[39;00m i \u001b[38;5;129;01min\u001b[39;00m \u001b[38;5;28mrange\u001b[39m(\u001b[38;5;28mlen\u001b[39m(l)):\n\u001b[0;32m      5\u001b[0m     \u001b[38;5;66;03m#print(el, l.count(el))\u001b[39;00m\n\u001b[1;32m----> 6\u001b[0m     \u001b[38;5;28;01mif\u001b[39;00m \u001b[43ml\u001b[49m\u001b[43m(\u001b[49m\u001b[43mi\u001b[49m\u001b[38;5;241;43m+\u001b[39;49m\u001b[38;5;241;43m1\u001b[39;49m\u001b[43m)\u001b[49m\u001b[38;5;241m!=\u001b[39m l(i):\n\u001b[0;32m      7\u001b[0m         \u001b[38;5;28mprint\u001b[39m(l(i), l\u001b[38;5;241m.\u001b[39mcount(l(i)))\n",
      "\u001b[1;31mTypeError\u001b[0m: 'list' object is not callable"
     ]
    }
   ],
   "source": [
    "#Count and print the no. of elements and the times they are repeating\n",
    "nl = list()\n",
    "l = [1,2,3,5,3,6,8,4,6,7,8,4,2,12,5,89,5,4,3,2,5,6,7,8,9,4,3,2,4]\n",
    "for i in range(len(l)):\n",
    "    #print(el, l.count(el))\n",
    "    if l(i+1)!= l(i):\n",
    "        print(l(i), l.count(l(i)))"
   ]
  },
  {
   "cell_type": "code",
   "execution_count": 65,
   "id": "13ef7e7f",
   "metadata": {},
   "outputs": [
    {
     "data": {
      "text/plain": [
       "2"
      ]
     },
     "execution_count": 65,
     "metadata": {},
     "output_type": "execute_result"
    }
   ],
   "source": [
    "a = [1,2,1,4,5,6,[7,7],[7,7]]\n",
    "a.count([7,7])"
   ]
  },
  {
   "cell_type": "code",
   "execution_count": 66,
   "id": "ec02798d",
   "metadata": {},
   "outputs": [
    {
     "data": {
      "text/plain": [
       "2"
      ]
     },
     "execution_count": 66,
     "metadata": {},
     "output_type": "execute_result"
    }
   ],
   "source": [
    "# to count 7:\n",
    "a[-1].count(7)"
   ]
  },
  {
   "cell_type": "code",
   "execution_count": 67,
   "id": "bcb5cbc5",
   "metadata": {},
   "outputs": [
    {
     "data": {
      "text/plain": [
       "[1, 2, 3, 4, 5, 6]"
      ]
     },
     "execution_count": 67,
     "metadata": {},
     "output_type": "execute_result"
    }
   ],
   "source": [
    "#.extend:\n",
    "A = [1,2,3]\n",
    "B = [4,5,6]\n",
    "A.extend(B) #inplace assignment\n",
    "A"
   ]
  },
  {
   "cell_type": "code",
   "execution_count": 68,
   "id": "957686a0",
   "metadata": {},
   "outputs": [
    {
     "data": {
      "text/plain": [
       "[1, 2, 3, [4, 5, 6]]"
      ]
     },
     "execution_count": 68,
     "metadata": {},
     "output_type": "execute_result"
    }
   ],
   "source": [
    "#.append:\n",
    "A = [1,2,3]\n",
    "B = [4,5,6]\n",
    "A.append(B) #inpace assignment\n",
    "A"
   ]
  },
  {
   "cell_type": "code",
   "execution_count": 69,
   "id": "df061c51",
   "metadata": {},
   "outputs": [
    {
     "data": {
      "text/plain": [
       "[1, 2, 3]"
      ]
     },
     "execution_count": 69,
     "metadata": {},
     "output_type": "execute_result"
    }
   ],
   "source": [
    "# \"+\":\n",
    "A = [1,2,3]\n",
    "B = [4,5,6]\n",
    "A+B\n",
    "A"
   ]
  },
  {
   "cell_type": "code",
   "execution_count": 70,
   "id": "96e9826e",
   "metadata": {},
   "outputs": [],
   "source": [
    "#\".extend\" is a permanent solution or inplace assignment but, \"+\" is just an operation"
   ]
  },
  {
   "cell_type": "code",
   "execution_count": 71,
   "id": "63751446",
   "metadata": {},
   "outputs": [
    {
     "data": {
      "text/plain": [
       "1"
      ]
     },
     "execution_count": 71,
     "metadata": {},
     "output_type": "execute_result"
    }
   ],
   "source": [
    "#\".index\"\n",
    "A = [1,2,3]\n",
    "A.index(2)"
   ]
  },
  {
   "cell_type": "code",
   "execution_count": 72,
   "id": "cab00920",
   "metadata": {},
   "outputs": [
    {
     "name": "stdout",
     "output_type": "stream",
     "text": [
      "3\n",
      "5\n"
     ]
    }
   ],
   "source": [
    "a =[\"shiuu\", 1,23,1+2j, 4,4+3j]\n",
    "for el in a:\n",
    "    if type(el)==complex:\n",
    "        print(a.index(el))"
   ]
  },
  {
   "cell_type": "code",
   "execution_count": 73,
   "id": "48de0429",
   "metadata": {},
   "outputs": [
    {
     "name": "stdout",
     "output_type": "stream",
     "text": [
      "3\n",
      "5\n"
     ]
    }
   ],
   "source": [
    "#isinstance:\n",
    "a =[\"shiuu\", 1,23,1+2j, 4,4+3j]\n",
    "for el in a:\n",
    "    if isinstance(el, complex):\n",
    "        print(a.index(el))"
   ]
  },
  {
   "cell_type": "code",
   "execution_count": 74,
   "id": "f5cccf3e",
   "metadata": {},
   "outputs": [
    {
     "name": "stdout",
     "output_type": "stream",
     "text": [
      "1\n",
      "2\n",
      "3\n",
      "4\n",
      "5\n"
     ]
    }
   ],
   "source": [
    "#to check more than two types of conditions\n",
    "a =[\"shiuu\", 1,23,1+2j, 4,4+3j]\n",
    "for el in a:\n",
    "    if isinstance(el, (complex, int)):\n",
    "        print(a.index(el))"
   ]
  },
  {
   "cell_type": "code",
   "execution_count": 75,
   "id": "0823c61a",
   "metadata": {},
   "outputs": [
    {
     "data": {
      "text/plain": [
       "[1, 23, (1+2j), 4, (4+3j)]"
      ]
     },
     "execution_count": 75,
     "metadata": {},
     "output_type": "execute_result"
    }
   ],
   "source": [
    "new_list = [el for el in a if isinstance(el,(complex, int))]\n",
    "new_list"
   ]
  },
  {
   "cell_type": "code",
   "execution_count": 76,
   "id": "3c3a0f16",
   "metadata": {},
   "outputs": [
    {
     "data": {
      "text/plain": [
       "['shiuu', 1, 2, 23, (1+2j), 4, (4+3j)]"
      ]
     },
     "execution_count": 76,
     "metadata": {},
     "output_type": "execute_result"
    }
   ],
   "source": [
    "a =[\"shiuu\", 1,23,1+2j, 4,4+3j]\n",
    "a.insert(2,2)\n",
    "a"
   ]
  },
  {
   "cell_type": "code",
   "execution_count": 77,
   "id": "a6b9dafb",
   "metadata": {},
   "outputs": [
    {
     "data": {
      "text/plain": [
       "['shiuu', 1, 2, 23, (1+2j), 4, (4+3j), 2]"
      ]
     },
     "execution_count": 77,
     "metadata": {},
     "output_type": "execute_result"
    }
   ],
   "source": [
    "a.insert(2000,2)\n",
    "a"
   ]
  },
  {
   "cell_type": "markdown",
   "id": "081223b2",
   "metadata": {},
   "source": [
    "# Tuples ()"
   ]
  },
  {
   "cell_type": "code",
   "execution_count": 78,
   "id": "b775a361",
   "metadata": {},
   "outputs": [
    {
     "data": {
      "text/plain": [
       "tuple"
      ]
     },
     "execution_count": 78,
     "metadata": {},
     "output_type": "execute_result"
    }
   ],
   "source": [
    "a = (1,2,3,5,6)\n",
    "type(a)"
   ]
  },
  {
   "cell_type": "code",
   "execution_count": 79,
   "id": "a649af39",
   "metadata": {},
   "outputs": [
    {
     "ename": "AttributeError",
     "evalue": "'tuple' object has no attribute 'sort'",
     "output_type": "error",
     "traceback": [
      "\u001b[1;31m---------------------------------------------------------------------------\u001b[0m",
      "\u001b[1;31mAttributeError\u001b[0m                            Traceback (most recent call last)",
      "Input \u001b[1;32mIn [79]\u001b[0m, in \u001b[0;36m<cell line: 1>\u001b[1;34m()\u001b[0m\n\u001b[1;32m----> 1\u001b[0m \u001b[43ma\u001b[49m\u001b[38;5;241;43m.\u001b[39;49m\u001b[43msort\u001b[49m()\n",
      "\u001b[1;31mAttributeError\u001b[0m: 'tuple' object has no attribute 'sort'"
     ]
    }
   ],
   "source": [
    "a.sort()"
   ]
  },
  {
   "cell_type": "code",
   "execution_count": 80,
   "id": "07148881",
   "metadata": {},
   "outputs": [
    {
     "data": {
      "text/plain": [
       "[1, 2, 3, 5, 6]"
      ]
     },
     "execution_count": 80,
     "metadata": {},
     "output_type": "execute_result"
    }
   ],
   "source": [
    "sorted(a) #it's a list"
   ]
  },
  {
   "cell_type": "code",
   "execution_count": 81,
   "id": "1c517e61",
   "metadata": {},
   "outputs": [
    {
     "data": {
      "text/plain": [
       "1"
      ]
     },
     "execution_count": 81,
     "metadata": {},
     "output_type": "execute_result"
    }
   ],
   "source": [
    "a = (1,2,3,5,6)\n",
    "a.index(2)"
   ]
  },
  {
   "cell_type": "code",
   "execution_count": 82,
   "id": "9f325a92",
   "metadata": {},
   "outputs": [
    {
     "data": {
      "text/plain": [
       "5"
      ]
     },
     "execution_count": 82,
     "metadata": {},
     "output_type": "execute_result"
    }
   ],
   "source": [
    "len(a)"
   ]
  },
  {
   "cell_type": "code",
   "execution_count": 83,
   "id": "cc8075e3",
   "metadata": {},
   "outputs": [
    {
     "data": {
      "text/plain": [
       "(1, 2, 3, 5, 6, 1, 2, 3, 5, 6)"
      ]
     },
     "execution_count": 83,
     "metadata": {},
     "output_type": "execute_result"
    }
   ],
   "source": [
    "a*2"
   ]
  },
  {
   "cell_type": "code",
   "execution_count": 84,
   "id": "d87fba38",
   "metadata": {},
   "outputs": [
    {
     "ename": "TypeError",
     "evalue": "unsupported operand type(s) for ** or pow(): 'tuple' and 'int'",
     "output_type": "error",
     "traceback": [
      "\u001b[1;31m---------------------------------------------------------------------------\u001b[0m",
      "\u001b[1;31mTypeError\u001b[0m                                 Traceback (most recent call last)",
      "Input \u001b[1;32mIn [84]\u001b[0m, in \u001b[0;36m<cell line: 1>\u001b[1;34m()\u001b[0m\n\u001b[1;32m----> 1\u001b[0m \u001b[43ma\u001b[49m\u001b[38;5;241;43m*\u001b[39;49m\u001b[38;5;241;43m*\u001b[39;49m\u001b[38;5;241;43m2\u001b[39;49m\n",
      "\u001b[1;31mTypeError\u001b[0m: unsupported operand type(s) for ** or pow(): 'tuple' and 'int'"
     ]
    }
   ],
   "source": [
    "a**2"
   ]
  },
  {
   "cell_type": "code",
   "execution_count": 85,
   "id": "18f0273f",
   "metadata": {},
   "outputs": [],
   "source": [
    "\n",
    "#adding elements or doing any mutation is not allowed directly. but it can be possible by converting it into list.\n",
    "# Tuple is not often used but it is used where \"mutability is necessary\". Like:if we don't want to change the items in following list.\n",
    "\n",
    "amazon_cart = [(\"watch\", 5000), (\"bag\", 2000), (\"bottle\", 600)]\n",
    "#rest of the code runs as it is, it will work."
   ]
  },
  {
   "cell_type": "code",
   "execution_count": 86,
   "id": "c078ef03",
   "metadata": {},
   "outputs": [],
   "source": [
    "# ask the user for N no of times to add item and show total cost. \n",
    "#if item is not present, show it 'out of stock' and do not include its cost in total cost..\n",
    "#amazon_website = [(\"watch\", 5000), (\"bag\", 2000), (\"bottle\", 600), (\"phone\", 45000), (\"laptop\", 80000), (\"shampoo\", 1500)]\n",
    "#total_cost = 0\n",
    "#for i in range(3):\n",
    "    #my_choice = input(\"item to add to the cart\")\n",
    "   # for el in amazon_website:\n",
    "        #if my_choice in amazon_website:\n",
    "          #  print(my_choice)\n",
    "           # total_cost = total_cost + el[1]\n",
    "           # print(total_cost)\n",
    "      #  else:\n",
    "          #  print(\"out of stock\"\n"
   ]
  },
  {
   "cell_type": "code",
   "execution_count": 87,
   "id": "caa3ba2f",
   "metadata": {
    "scrolled": true
   },
   "outputs": [
    {
     "name": "stdout",
     "output_type": "stream",
     "text": [
      "select item to add to the cart: watch\n",
      "select item to add to the cart: bottle\n",
      "select item to add to the cart: lalptop\n"
     ]
    }
   ],
   "source": [
    "amazon_website = [(\"watch\", 5000), (\"bag\", 2000), (\"bottle\", 600), (\"phone\", 45000), (\"laptop\", 80000), (\"shampoo\", 1500)]\n",
    "total_cost = 0\n",
    "for i in range(3):\n",
    "    my_choice = input(\"select item to add to the cart: \")"
   ]
  }
 ],
 "metadata": {
  "kernelspec": {
   "display_name": "Python 3 (ipykernel)",
   "language": "python",
   "name": "python3"
  },
  "language_info": {
   "codemirror_mode": {
    "name": "ipython",
    "version": 3
   },
   "file_extension": ".py",
   "mimetype": "text/x-python",
   "name": "python",
   "nbconvert_exporter": "python",
   "pygments_lexer": "ipython3",
   "version": "3.9.12"
  }
 },
 "nbformat": 4,
 "nbformat_minor": 5
}
