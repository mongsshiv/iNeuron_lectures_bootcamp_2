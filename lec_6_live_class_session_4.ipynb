{
 "cells": [
  {
   "cell_type": "code",
   "execution_count": 1,
   "id": "d26ad939",
   "metadata": {},
   "outputs": [
    {
     "data": {
      "text/plain": [
       "float"
      ]
     },
     "execution_count": 1,
     "metadata": {},
     "output_type": "execute_result"
    }
   ],
   "source": [
    "#convert float to integer\n",
    "A = 50.22\n",
    "type(A)"
   ]
  },
  {
   "cell_type": "code",
   "execution_count": 2,
   "id": "899906f0",
   "metadata": {},
   "outputs": [
    {
     "name": "stdout",
     "output_type": "stream",
     "text": [
      "50\n"
     ]
    }
   ],
   "source": [
    "A=int(A)\n",
    "type(A)\n",
    "print(A)"
   ]
  },
  {
   "cell_type": "code",
   "execution_count": 3,
   "id": "8419384a",
   "metadata": {},
   "outputs": [
    {
     "data": {
      "text/plain": [
       "int"
      ]
     },
     "execution_count": 3,
     "metadata": {},
     "output_type": "execute_result"
    }
   ],
   "source": [
    "type(A)"
   ]
  },
  {
   "cell_type": "code",
   "execution_count": 4,
   "id": "b15516a3",
   "metadata": {},
   "outputs": [
    {
     "name": "stdout",
     "output_type": "stream",
     "text": [
      "data type before: <class 'int'>; value of A: 10\n",
      "data type after: <class 'bool'>; value of A: True\n"
     ]
    }
   ],
   "source": [
    "#convert int to bool\n",
    "A=10\n",
    "print(f\"data type before: {type(A)}; value of A: {A}\")\n",
    "A=bool(A)\n",
    "print(f\"data type after: {type(A)}; value of A: {A}\")"
   ]
  },
  {
   "cell_type": "code",
   "execution_count": 5,
   "id": "b30f175c",
   "metadata": {},
   "outputs": [
    {
     "name": "stdout",
     "output_type": "stream",
     "text": [
      "data type before: <class 'int'>; value of A: 0\n",
      "data type after: <class 'bool'>; value of A: False\n"
     ]
    }
   ],
   "source": [
    "# 0 will give us False\n",
    "A=0\n",
    "print(f\"data type before: {type(A)}; value of A: {A}\")\n",
    "A=bool(A)\n",
    "print(f\"data type after: {type(A)}; value of A: {A}\")"
   ]
  },
  {
   "cell_type": "code",
   "execution_count": 6,
   "id": "d5bf169d",
   "metadata": {},
   "outputs": [
    {
     "name": "stdout",
     "output_type": "stream",
     "text": [
      "data type before: <class 'int'>; value of A: -50\n",
      "data type after: <class 'bool'>; value of A: True\n"
     ]
    }
   ],
   "source": [
    "A=-50\n",
    "print(f\"data type before: {type(A)}; value of A: {A}\")\n",
    "A=bool(A)\n",
    "print(f\"data type after: {type(A)}; value of A: {A}\")"
   ]
  },
  {
   "cell_type": "code",
   "execution_count": 7,
   "id": "322b67d1",
   "metadata": {},
   "outputs": [
    {
     "name": "stdout",
     "output_type": "stream",
     "text": [
      "data type before: <class 'str'>; value of A: shivani\n",
      "data type after: <class 'bool'>; value of A: True\n"
     ]
    }
   ],
   "source": [
    "#string to bool\n",
    "A=\"shivani\"\n",
    "print(f\"data type before: {type(A)}; value of A: {A}\")\n",
    "A=bool(A)\n",
    "print(f\"data type after: {type(A)}; value of A: {A}\")"
   ]
  },
  {
   "cell_type": "code",
   "execution_count": 8,
   "id": "5eb4eae1",
   "metadata": {},
   "outputs": [
    {
     "name": "stdout",
     "output_type": "stream",
     "text": [
      "data type before: <class 'str'>; value of A: \n",
      "data type after: <class 'bool'>; value of A: False\n"
     ]
    }
   ],
   "source": [
    "#empty str to bool gives us False\n",
    "A=\"\"\n",
    "print(f\"data type before: {type(A)}; value of A: {A}\")\n",
    "A=bool(A)\n",
    "print(f\"data type after: {type(A)}; value of A: {A}\")"
   ]
  },
  {
   "cell_type": "code",
   "execution_count": 9,
   "id": "3934ab61",
   "metadata": {
    "scrolled": true
   },
   "outputs": [
    {
     "name": "stdout",
     "output_type": "stream",
     "text": [
      "Shivani.Mongs@gmail.com\n"
     ]
    }
   ],
   "source": [
    "#Multi variable assignment\n",
    "firstName, middleName, surName = \"Shivani\", \"Babita\", \"Mongs\"\n",
    "print(f\"{firstName}.{surName}@gmail.com\")"
   ]
  },
  {
   "cell_type": "code",
   "execution_count": 11,
   "id": "35a012eb",
   "metadata": {},
   "outputs": [
    {
     "name": "stdout",
     "output_type": "stream",
     "text": [
      "Name: shivani mongs\n",
      "Address: rke\n",
      "BOD: 1995\n",
      "weight: 57\n"
     ]
    }
   ],
   "source": [
    "#User input\n",
    "name=input(\"Name: \")\n",
    "address = input(\"Address: \")\n",
    "yob=input(\"BOD: \")\n",
    "Age = 2023- int(yob)\n",
    "weight = input(\"weight: \")\n"
   ]
  },
  {
   "cell_type": "code",
   "execution_count": 14,
   "id": "948584cd",
   "metadata": {},
   "outputs": [
    {
     "name": "stdout",
     "output_type": "stream",
     "text": [
      "My name is: shivani mongs\n",
      "My address is: rke\n",
      "My age is: 28\n",
      "my weight is: 57\n"
     ]
    }
   ],
   "source": [
    "print(f\"\"\"My name is: {name}\n",
    "My address is: {address}\n",
    "My age is: {Age}\n",
    "my weight is: {weight}\"\"\")"
   ]
  },
  {
   "cell_type": "code",
   "execution_count": 15,
   "id": "ca49c730",
   "metadata": {},
   "outputs": [
    {
     "name": "stdout",
     "output_type": "stream",
     "text": [
      "Name: SM\n",
      "Address: rke\n",
      "BOD: 1995\n",
      "weight: 57\n"
     ]
    }
   ],
   "source": [
    "#User input\n",
    "name=input(\"Name: \")\n",
    "address = input(\"Address: \")\n",
    "yob=int(input(\"BOD: \"))\n",
    "Age = 2023- yob\n",
    "weight = input(\"weight: \")"
   ]
  },
  {
   "cell_type": "code",
   "execution_count": 16,
   "id": "ff456f25",
   "metadata": {},
   "outputs": [
    {
     "name": "stdout",
     "output_type": "stream",
     "text": [
      "My name is: SM\n",
      "My address is: rke\n",
      "My age is: 28\n",
      "my weight is: 57\n"
     ]
    }
   ],
   "source": [
    "print(f\"\"\"My name is: {name}\n",
    "My address is: {address}\n",
    "My age is: {Age}\n",
    "my weight is: {weight}\"\"\")"
   ]
  },
  {
   "cell_type": "code",
   "execution_count": 17,
   "id": "15409213",
   "metadata": {},
   "outputs": [
    {
     "name": "stdout",
     "output_type": "stream",
     "text": [
      "(22+0j)\n"
     ]
    }
   ],
   "source": [
    "a=22\n",
    "a=complex(a)\n",
    "print(a)"
   ]
  },
  {
   "cell_type": "code",
   "execution_count": null,
   "id": "fbecbd69",
   "metadata": {},
   "outputs": [],
   "source": []
  }
 ],
 "metadata": {
  "kernelspec": {
   "display_name": "Python 3 (ipykernel)",
   "language": "python",
   "name": "python3"
  },
  "language_info": {
   "codemirror_mode": {
    "name": "ipython",
    "version": 3
   },
   "file_extension": ".py",
   "mimetype": "text/x-python",
   "name": "python",
   "nbconvert_exporter": "python",
   "pygments_lexer": "ipython3",
   "version": "3.9.12"
  }
 },
 "nbformat": 4,
 "nbformat_minor": 5
}
