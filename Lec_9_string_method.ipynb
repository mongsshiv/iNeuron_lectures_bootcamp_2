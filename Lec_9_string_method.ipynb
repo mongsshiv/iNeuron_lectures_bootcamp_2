{
 "cells": [
  {
   "cell_type": "markdown",
   "id": "47690a70",
   "metadata": {},
   "source": [
    "# Topics to discuss: String_methods"
   ]
  },
  {
   "cell_type": "code",
   "execution_count": 1,
   "id": "062dfb77",
   "metadata": {},
   "outputs": [
    {
     "name": "stdout",
     "output_type": "stream",
     "text": [
      "today's date: 15\n",
      " month: 01\n",
      "year: 2023\n"
     ]
    }
   ],
   "source": [
    "date = \"15/01/2023\"\n",
    "#print today's date:\n",
    "print(f\"\"\"today's date: {date[0:2]}\n",
    " month: {date[3:5]}\n",
    "year: {date[6:100]}\"\"\")\n"
   ]
  },
  {
   "cell_type": "code",
   "execution_count": 2,
   "id": "1e690cba",
   "metadata": {},
   "outputs": [],
   "source": [
    "## Palindrome Sequence: To check for palindrome, the string should be equals to its reverse value."
   ]
  },
  {
   "cell_type": "code",
   "execution_count": 3,
   "id": "cf071787",
   "metadata": {},
   "outputs": [
    {
     "name": "stdout",
     "output_type": "stream",
     "text": [
      "it's a palindrome\n"
     ]
    }
   ],
   "source": [
    "str1 = \"malayalam\"\n",
    "str2 = str1[-1:-100:-1]\n",
    "if str2==str1:\n",
    "    print(\"it's a palindrome\")\n",
    "else:\n",
    "    print(\"it's not a palindrome\")"
   ]
  },
  {
   "cell_type": "code",
   "execution_count": 4,
   "id": "68e192a8",
   "metadata": {},
   "outputs": [
    {
     "data": {
      "text/plain": [
       "'malayalam'"
      ]
     },
     "execution_count": 4,
     "metadata": {},
     "output_type": "execute_result"
    }
   ],
   "source": [
    "str2"
   ]
  },
  {
   "cell_type": "code",
   "execution_count": 5,
   "id": "8cb69f23",
   "metadata": {},
   "outputs": [
    {
     "name": "stdout",
     "output_type": "stream",
     "text": [
      "input any word:shin\n",
      "it's not a palindrome\n"
     ]
    }
   ],
   "source": [
    "str1 = input(\"input any word:\")\n",
    "str2 = str1[-1:-100:-1]\n",
    "if str2==str1:\n",
    "    print(\"it's a palindrome\")\n",
    "else:\n",
    "    print(\"it's not a palindrome\")"
   ]
  },
  {
   "cell_type": "code",
   "execution_count": 6,
   "id": "6d5aecc2",
   "metadata": {},
   "outputs": [
    {
     "name": "stdout",
     "output_type": "stream",
     "text": [
      "input any word:radar\n",
      "it's a palindrome\n"
     ]
    }
   ],
   "source": [
    "str1 = input(\"input any word:\")\n",
    "str2 = str1[-1:-100:-1]\n",
    "if str2==str1:\n",
    "    print(\"it's a palindrome\")\n",
    "else:\n",
    "    print(\"it's not a palindrome\")"
   ]
  },
  {
   "cell_type": "code",
   "execution_count": 7,
   "id": "730e9cfe",
   "metadata": {},
   "outputs": [
    {
     "name": "stdout",
     "output_type": "stream",
     "text": [
      "input any word:Radar\n",
      "it's not a palindrome\n"
     ]
    }
   ],
   "source": [
    "str1 = input(\"input any word:\")\n",
    "str2 = str1[-1:-100:-1]\n",
    "if str2==str1:\n",
    "    print(\"it's a palindrome\")\n",
    "else:\n",
    "    print(\"it's not a palindrome\")"
   ]
  },
  {
   "cell_type": "code",
   "execution_count": 8,
   "id": "c2aeedb3",
   "metadata": {},
   "outputs": [],
   "source": [
    "# from above example we found the case sensitivity of Python"
   ]
  },
  {
   "cell_type": "code",
   "execution_count": 9,
   "id": "cc481dca",
   "metadata": {},
   "outputs": [
    {
     "data": {
      "text/plain": [
       "'Hunny'"
      ]
     },
     "execution_count": 9,
     "metadata": {},
     "output_type": "execute_result"
    }
   ],
   "source": [
    "# String Mutability:\n",
    "str1= \"Sunny\"\n",
    "#replace S with H\n",
    "str1.replace(\"S\", \"H\")"
   ]
  },
  {
   "cell_type": "code",
   "execution_count": 10,
   "id": "9a301643",
   "metadata": {},
   "outputs": [],
   "source": [
    "data1 = \"an apple a day keeps a doctor away\""
   ]
  },
  {
   "cell_type": "code",
   "execution_count": 11,
   "id": "4fd84512",
   "metadata": {},
   "outputs": [
    {
     "data": {
      "text/plain": [
       "['an', 'apple', 'a', 'day', 'keeps', 'a', 'doctor', 'away']"
      ]
     },
     "execution_count": 11,
     "metadata": {},
     "output_type": "execute_result"
    }
   ],
   "source": [
    "data1 = data1.split(\" \")\n",
    "data1"
   ]
  },
  {
   "cell_type": "code",
   "execution_count": 12,
   "id": "b4be02f4",
   "metadata": {},
   "outputs": [
    {
     "data": {
      "text/plain": [
       "list"
      ]
     },
     "execution_count": 12,
     "metadata": {},
     "output_type": "execute_result"
    }
   ],
   "source": [
    "type(data1)"
   ]
  },
  {
   "cell_type": "code",
   "execution_count": 14,
   "id": "b0745cf8",
   "metadata": {},
   "outputs": [
    {
     "name": "stdout",
     "output_type": "stream",
     "text": [
      "['an', 'angel', 'visited', 'me', 'yesterday']\n"
     ]
    }
   ],
   "source": [
    "data2 = (\"an angel visited me yesterday\")\n",
    "A = data2.split(\" \")\n",
    "print(A)"
   ]
  },
  {
   "cell_type": "code",
   "execution_count": 15,
   "id": "6312132a",
   "metadata": {},
   "outputs": [
    {
     "data": {
      "text/plain": [
       "'an'"
      ]
     },
     "execution_count": 15,
     "metadata": {},
     "output_type": "execute_result"
    }
   ],
   "source": [
    "A[0]"
   ]
  },
  {
   "cell_type": "code",
   "execution_count": 17,
   "id": "8dc38e88",
   "metadata": {},
   "outputs": [
    {
     "data": {
      "text/plain": [
       "'yesterday'"
      ]
     },
     "execution_count": 17,
     "metadata": {},
     "output_type": "execute_result"
    }
   ],
   "source": [
    "A[4]"
   ]
  },
  {
   "cell_type": "code",
   "execution_count": 20,
   "id": "f4a15050",
   "metadata": {},
   "outputs": [
    {
     "data": {
      "text/plain": [
       "'sgnoM inavihS'"
      ]
     },
     "execution_count": 20,
     "metadata": {},
     "output_type": "execute_result"
    }
   ],
   "source": [
    "#.join; reversed()\n",
    "name = \"Shivani Mongs\"\n",
    "\"\".join(reversed(name))"
   ]
  },
  {
   "cell_type": "code",
   "execution_count": 24,
   "id": "e329eccc",
   "metadata": {},
   "outputs": [
    {
     "name": "stdout",
     "output_type": "stream",
     "text": [
      " enter your Indian Phone number+919837688631\n",
      "correct\n"
     ]
    }
   ],
   "source": [
    "# Phone_number input\n",
    "Phone_number = input(\" enter your Indian Phone number\")\n",
    "if Phone_number.startswith(\"+91\") and Phone_number[1:].isdigit()and len(Phone_number) == 13:\n",
    "    print(\"correct\")\n",
    "else:\n",
    "    print(\"invalid, please try again\")\n",
    "    Phone_number = input(\" enter your Indian Phone number\")"
   ]
  },
  {
   "cell_type": "code",
   "execution_count": 25,
   "id": "8f55b5c0",
   "metadata": {},
   "outputs": [
    {
     "name": "stdout",
     "output_type": "stream",
     "text": [
      " enter your Indian Phone number983567768769675\n",
      "invalid, please try again\n",
      " enter your Indian Phone number+919837688631\n"
     ]
    }
   ],
   "source": [
    "# Phone_number input\n",
    "Phone_number = input(\" enter your Indian Phone number\")\n",
    "if Phone_number.startswith(\"+91\") and Phone_number[1:].isdigit()and len(Phone_number) == 13:\n",
    "    print(\"correct\")\n",
    "else:\n",
    "    print(\"invalid, please try again\")\n",
    "    Phone_number = input(\" enter your Indian Phone number\")"
   ]
  },
  {
   "cell_type": "code",
   "execution_count": null,
   "id": "1a5d9704",
   "metadata": {},
   "outputs": [],
   "source": []
  }
 ],
 "metadata": {
  "kernelspec": {
   "display_name": "Python 3 (ipykernel)",
   "language": "python",
   "name": "python3"
  },
  "language_info": {
   "codemirror_mode": {
    "name": "ipython",
    "version": 3
   },
   "file_extension": ".py",
   "mimetype": "text/x-python",
   "name": "python",
   "nbconvert_exporter": "python",
   "pygments_lexer": "ipython3",
   "version": "3.9.12"
  }
 },
 "nbformat": 4,
 "nbformat_minor": 5
}
