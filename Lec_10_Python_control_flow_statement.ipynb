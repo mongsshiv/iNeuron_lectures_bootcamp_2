{
 "cells": [
  {
   "cell_type": "markdown",
   "id": "10c68c48",
   "metadata": {},
   "source": [
    "# Topics: if else, if elif else, Nested if else, Single line if else, Loops: for, while."
   ]
  },
  {
   "cell_type": "code",
   "execution_count": 1,
   "id": "999fb45c",
   "metadata": {},
   "outputs": [],
   "source": [
    "# Nested if-else:if inside if."
   ]
  },
  {
   "cell_type": "code",
   "execution_count": 2,
   "id": "3459f373",
   "metadata": {},
   "outputs": [
    {
     "name": "stdout",
     "output_type": "stream",
     "text": [
      "enter a number:67\n",
      "No\n"
     ]
    }
   ],
   "source": [
    "#single line:\n",
    "num= float(input(\"enter a number:\"))\n",
    "print(\"Yes\" if num>99 else \"No\" )"
   ]
  },
  {
   "cell_type": "code",
   "execution_count": 3,
   "id": "fc5c4161",
   "metadata": {},
   "outputs": [
    {
     "name": "stdout",
     "output_type": "stream",
     "text": [
      "enter a number:89\n",
      "No\n"
     ]
    }
   ],
   "source": [
    "num= float(input(\"enter a number:\"))\n",
    "print(\"Yes\" if num>99 else \"No\" )"
   ]
  },
  {
   "cell_type": "markdown",
   "id": "5202720a",
   "metadata": {},
   "source": [
    "# Loops: While"
   ]
  },
  {
   "cell_type": "code",
   "execution_count": 4,
   "id": "e70ec8d6",
   "metadata": {},
   "outputs": [
    {
     "name": "stdout",
     "output_type": "stream",
     "text": [
      "your score is: 100\n",
      "I'll attempt again\n",
      "your score is: 200\n",
      "I'll attempt again\n",
      "your score is: 300\n",
      "I'll attempt again\n",
      "your score is: 399\n",
      "I'll attempt again\n"
     ]
    }
   ],
   "source": [
    "# no. of attempt of exam\n",
    "total_marks = 1000\n",
    "cutoff = 400\n",
    "scores = [100, 200, 300, 399, 500]\n",
    "\n",
    "year = 0\n",
    "\n",
    "while scores[year] <= cutoff:\n",
    "    print(f\"your score is: {scores[year]}\")\n",
    "    print(\"I'll attempt again\")\n",
    "    year = year + 1    "
   ]
  },
  {
   "cell_type": "code",
   "execution_count": 5,
   "id": "092a4386",
   "metadata": {},
   "outputs": [
    {
     "name": "stdout",
     "output_type": "stream",
     "text": [
      "summation is: 10\n",
      "summation is: 20\n",
      "summation is: 30\n",
      "summation is: 40\n",
      "summation is: 50\n"
     ]
    }
   ],
   "source": [
    "# child is learning to count 10rs. note.\n",
    "note = 5\n",
    "i=1\n",
    "while i <= note:\n",
    "    print(f\"summation is: {i * 10}\")\n",
    "    i=i+1"
   ]
  },
  {
   "cell_type": "code",
   "execution_count": 6,
   "id": "d9d6ab3b",
   "metadata": {},
   "outputs": [
    {
     "name": "stdout",
     "output_type": "stream",
     "text": [
      "this is st_1\n",
      "my destination is : st_4\n",
      "continue the journey\n",
      "Next station is: st_2\n",
      "------\n",
      "this is st_2\n",
      "my destination is : st_4\n",
      "continue the journey\n",
      "Next station is: st_3\n",
      "------\n",
      "this is st_3\n",
      "my destination is : st_4\n",
      "continue the journey\n",
      "Next station is: st_4\n",
      "------\n"
     ]
    }
   ],
   "source": [
    "#train journey:\n",
    "station = [\"st_1\", \"st_2\", \"st_3\", \"st_4\"]\n",
    "destination_station = \"st_4\"\n",
    "current_station = 0\n",
    "\n",
    "while station[current_station] != destination_station:\n",
    "    print(f\"this is {station[current_station]}\")\n",
    "    print(f\"my destination is : {destination_station}\")\n",
    "    print(\"continue the journey\")\n",
    "    current_station = current_station + 1\n",
    "    print(f\"Next station is: {station[current_station]}\")\n",
    "    print(\"------\")"
   ]
  },
  {
   "cell_type": "markdown",
   "id": "05309c0a",
   "metadata": {},
   "source": [
    "# Loop: While_else "
   ]
  },
  {
   "cell_type": "code",
   "execution_count": 7,
   "id": "02a6d7d7",
   "metadata": {},
   "outputs": [
    {
     "name": "stdout",
     "output_type": "stream",
     "text": [
      "this is st_1\n",
      "my destination is : st_4\n",
      "continue the journey\n",
      "Next station is: st_2\n",
      "------\n",
      "this is st_2\n",
      "my destination is : st_4\n",
      "continue the journey\n",
      "Next station is: st_3\n",
      "------\n",
      "this is st_3\n",
      "my destination is : st_4\n",
      "continue the journey\n",
      "Next station is: st_4\n",
      "------\n",
      "I've reached my destination\n"
     ]
    }
   ],
   "source": [
    "#train journey:\n",
    "station = [\"st_1\", \"st_2\", \"st_3\", \"st_4\"]\n",
    "destination_station = \"st_4\"\n",
    "current_station = 0\n",
    "\n",
    "while station[current_station] != destination_station:\n",
    "    print(f\"this is {station[current_station]}\")\n",
    "    print(f\"my destination is : {destination_station}\")\n",
    "    print(\"continue the journey\")\n",
    "    current_station = current_station + 1\n",
    "    print(f\"Next station is: {station[current_station]}\")\n",
    "    print(\"------\")\n",
    "else:\n",
    "    print(\"I've reached my destination\")"
   ]
  },
  {
   "cell_type": "markdown",
   "id": "ef5c5cf0",
   "metadata": {},
   "source": [
    "# Loop: for loop"
   ]
  },
  {
   "cell_type": "code",
   "execution_count": 8,
   "id": "cc52f759",
   "metadata": {},
   "outputs": [
    {
     "name": "stdout",
     "output_type": "stream",
     "text": [
      "10 x 0: 0\n",
      "10 x 1: 10\n",
      "10 x 2: 20\n",
      "10 x 3: 30\n",
      "10 x 4: 40\n",
      "10 x 5: 50\n",
      "10 x 6: 60\n",
      "10 x 7: 70\n",
      "10 x 8: 80\n",
      "10 x 9: 90\n"
     ]
    }
   ],
   "source": [
    "for i in range(0,10):\n",
    "    print(f\"10 x {i}: {i*10}\")"
   ]
  },
  {
   "cell_type": "code",
   "execution_count": 9,
   "id": "8d6dc132",
   "metadata": {},
   "outputs": [
    {
     "name": "stdout",
     "output_type": "stream",
     "text": [
      "\n",
      "*\n",
      "**\n",
      "***\n",
      "****\n",
      "*****\n",
      "******\n",
      "*******\n",
      "********\n",
      "*********\n"
     ]
    }
   ],
   "source": [
    "for i in range(0,10):\n",
    "    print(\"*\" * i)"
   ]
  },
  {
   "cell_type": "code",
   "execution_count": 10,
   "id": "22561356",
   "metadata": {},
   "outputs": [
    {
     "name": "stdout",
     "output_type": "stream",
     "text": [
      "*\n",
      "**\n",
      "***\n",
      "****\n",
      "*****\n",
      "******\n",
      "*******\n",
      "********\n",
      "*********\n",
      "**********\n"
     ]
    }
   ],
   "source": [
    "for i in range(1,11):\n",
    "    print(\"*\" * i)"
   ]
  },
  {
   "cell_type": "code",
   "execution_count": 11,
   "id": "5210c518",
   "metadata": {},
   "outputs": [
    {
     "name": "stdout",
     "output_type": "stream",
     "text": [
      "total_sum = 100\n",
      "total_sum = 300\n",
      "total_sum = 600\n",
      "total_sum = 1000\n",
      "total_sum = 1500\n"
     ]
    }
   ],
   "source": [
    "item_cost = [100, 200, 300, 400, 500]\n",
    "total = 0\n",
    "for i in range(0, 5):\n",
    "    print(f\"total_sum = {total + item_cost[i]}\")\n",
    "    total = total + item_cost[i]"
   ]
  },
  {
   "cell_type": "code",
   "execution_count": 12,
   "id": "78b89c71",
   "metadata": {},
   "outputs": [
    {
     "name": "stdout",
     "output_type": "stream",
     "text": [
      "0 = 0 + 100\n",
      "after adding, total sum = 100\n",
      "-----\n",
      "100 = 100 + 200\n",
      "after adding, total sum = 300\n",
      "-----\n",
      "300 = 300 + 129\n",
      "after adding, total sum = 429\n",
      "-----\n",
      "429 = 429 + 456\n",
      "after adding, total sum = 885\n",
      "-----\n",
      "885 = 885 + 1000\n",
      "after adding, total sum = 1885\n",
      "-----\n",
      "Total amount to pay: 1885\n"
     ]
    }
   ],
   "source": [
    "cost_items = [100,200,129,456,1000]\n",
    "\n",
    "total_sum = 0\n",
    "\n",
    "for cost in cost_items:\n",
    "    print(f\"{total_sum} = {total_sum} + {cost}\")\n",
    "    total_sum = total_sum + cost\n",
    "    print(f\"after adding, total sum = {total_sum}\")\n",
    "    print(\"-----\")\n",
    "print(f\"Total amount to pay: {total_sum}\")"
   ]
  },
  {
   "cell_type": "code",
   "execution_count": 13,
   "id": "d9372551",
   "metadata": {},
   "outputs": [
    {
     "data": {
      "text/plain": [
       "1000"
      ]
     },
     "execution_count": 13,
     "metadata": {},
     "output_type": "execute_result"
    }
   ],
   "source": [
    "cost"
   ]
  },
  {
   "cell_type": "code",
   "execution_count": 14,
   "id": "2c6365c8",
   "metadata": {},
   "outputs": [
    {
     "name": "stdout",
     "output_type": "stream",
     "text": [
      "total amount to be paid: 2084\n"
     ]
    }
   ],
   "source": [
    "cost_items = [100,200,129,456,1000, 199, 299]\n",
    "\n",
    "total_sum = 0\n",
    "budget = 2000\n",
    "\n",
    "for cost in cost_items:\n",
    "    if total_sum > budget:\n",
    "        break\n",
    "    else:\n",
    "        total_sum = total_sum + cost\n",
    "print(f\"total amount to be paid: {total_sum}\")"
   ]
  },
  {
   "cell_type": "code",
   "execution_count": 17,
   "id": "b5bfad7a",
   "metadata": {},
   "outputs": [
    {
     "name": "stdout",
     "output_type": "stream",
     "text": [
      "sum: 100\n",
      "sum: 300\n",
      "sum: 429\n",
      "sum: 885\n",
      "sum: 1885\n"
     ]
    }
   ],
   "source": [
    "cost_items = [100,200,129,456,1000, 199, 299]\n",
    "\n",
    "total_sum = 0\n",
    "budget = 2000\n",
    "\n",
    "for cost in cost_items:\n",
    "    total_sum = total_sum + cost\n",
    "    if total_sum <= budget:\n",
    "        print(f\"sum: {total_sum}\")\n",
    "    else:\n",
    "        break\n",
    "        total_sum = total_sum - cost\n",
    "        print(f\"total amount to be paid: {total_sum}\")"
   ]
  },
  {
   "cell_type": "code",
   "execution_count": 21,
   "id": "caf01e60",
   "metadata": {},
   "outputs": [
    {
     "name": "stdout",
     "output_type": "stream",
     "text": [
      "sum: 100\n",
      "sum: 300\n",
      "sum: 429\n",
      "sum: 885\n",
      "sum: 1885\n",
      "sum: 2084\n",
      "sum is greater than budget: 2000\n",
      "please remove the last added item\n",
      "total amount to be paid: 1885\n"
     ]
    }
   ],
   "source": [
    "#correct solution\n",
    "cost_items = [100,200,129,456,1000, 199, 299]\n",
    "\n",
    "total_sum = 0\n",
    "budget = 2000\n",
    "\n",
    "for cost in cost_items:\n",
    "    total_sum = total_sum + cost\n",
    "    print(f\"sum: {total_sum}\")\n",
    "    if total_sum > budget:\n",
    "        print(f\"sum is greater than budget: {budget}\")\n",
    "        print(\"please remove the last added item\")\n",
    "        total_sum = total_sum - cost\n",
    "        break\n",
    "print(f\"total amount to be paid: {total_sum}\")  "
   ]
  },
  {
   "cell_type": "code",
   "execution_count": 22,
   "id": "1a8792a4",
   "metadata": {},
   "outputs": [
    {
     "name": "stdout",
     "output_type": "stream",
     "text": [
      "1\n",
      "2\n",
      "3\n",
      "4\n",
      "5\n",
      "6\n",
      "7\n",
      "8\n",
      "9\n",
      "10\n",
      "11\n",
      "12\n",
      "13\n",
      "14\n",
      "15\n",
      "16\n",
      "17\n",
      "18\n",
      "19\n",
      "20\n",
      "21\n",
      "22\n",
      "23\n",
      "24\n",
      "25\n",
      "26\n",
      "27\n",
      "28\n",
      "29\n",
      "30\n",
      "31\n",
      "32\n",
      "33\n",
      "34\n",
      "35\n",
      "36\n",
      "37\n",
      "38\n",
      "39\n",
      "40\n",
      "41\n",
      "42\n",
      "43\n",
      "44\n",
      "45\n",
      "46\n",
      "47\n",
      "48\n",
      "49\n",
      "50\n"
     ]
    }
   ],
   "source": [
    "for i in range(1, 100):\n",
    "    print(i)\n",
    "    if i >= 50:\n",
    "        break"
   ]
  },
  {
   "cell_type": "code",
   "execution_count": 23,
   "id": "56d3222e",
   "metadata": {},
   "outputs": [
    {
     "name": "stdout",
     "output_type": "stream",
     "text": [
      "1\n",
      "2\n",
      "3\n",
      "4\n",
      "5\n",
      "6\n",
      "7\n",
      "8\n",
      "9\n",
      "10\n",
      "11\n",
      "12\n",
      "13\n",
      "15\n"
     ]
    }
   ],
   "source": [
    "l = [1,2,3,4,5,6,7,8,9,10,11,12,13,15]\n",
    "item = 0\n",
    "for i in l:\n",
    "    print(f\"{i}\")"
   ]
  },
  {
   "cell_type": "code",
   "execution_count": 24,
   "id": "07c33413",
   "metadata": {},
   "outputs": [
    {
     "name": "stdout",
     "output_type": "stream",
     "text": [
      "1\n",
      "2\n",
      "3\n",
      "4\n",
      "5\n",
      "6\n",
      "7\n",
      "8\n",
      "9\n",
      "10\n",
      "11\n",
      "12\n"
     ]
    }
   ],
   "source": [
    "l = [1,2,3,4,5,6,7,8,9,10,11,12,13,15]\n",
    "item = 0\n",
    "for i in l:\n",
    "    print(f\"{i}\")\n",
    "    if i == 12:\n",
    "        break"
   ]
  },
  {
   "cell_type": "code",
   "execution_count": 26,
   "id": "9e3d7725",
   "metadata": {},
   "outputs": [
    {
     "name": "stdout",
     "output_type": "stream",
     "text": [
      "1\n",
      "2\n",
      "3\n",
      "4\n",
      "5\n",
      "6\n",
      "7\n",
      "8\n",
      "9\n",
      "10\n",
      "11\n",
      "13\n",
      "15\n"
     ]
    }
   ],
   "source": [
    "l = [1,2,3,4,5,6,7,8,9,10,11,12,13,15]\n",
    "item = 0\n",
    "for i in l:\n",
    "    if i == 12:\n",
    "        continue\n",
    "    print(f\"{i}\")"
   ]
  },
  {
   "cell_type": "code",
   "execution_count": 27,
   "id": "0ece8d0e",
   "metadata": {},
   "outputs": [
    {
     "name": "stdout",
     "output_type": "stream",
     "text": [
      "1\n",
      "2\n",
      "3\n",
      "4\n",
      "5\n",
      "6\n",
      "7\n",
      "8\n",
      "9\n",
      "10\n",
      "11\n",
      "12\n",
      "13\n",
      "15\n"
     ]
    }
   ],
   "source": [
    "l = [1,2,3,4,5,6,7,8,9,10,11,12,13,15]\n",
    "item = 0\n",
    "for i in l:\n",
    "    if i == 12:\n",
    "        pass\n",
    "    print(f\"{i}\")"
   ]
  },
  {
   "cell_type": "code",
   "execution_count": null,
   "id": "818dbec7",
   "metadata": {},
   "outputs": [],
   "source": []
  }
 ],
 "metadata": {
  "kernelspec": {
   "display_name": "Python 3 (ipykernel)",
   "language": "python",
   "name": "python3"
  },
  "language_info": {
   "codemirror_mode": {
    "name": "ipython",
    "version": 3
   },
   "file_extension": ".py",
   "mimetype": "text/x-python",
   "name": "python",
   "nbconvert_exporter": "python",
   "pygments_lexer": "ipython3",
   "version": "3.9.12"
  }
 },
 "nbformat": 4,
 "nbformat_minor": 5
}
